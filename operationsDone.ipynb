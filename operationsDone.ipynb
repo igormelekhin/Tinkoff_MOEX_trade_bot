{
 "cells": [
  {
   "cell_type": "code",
   "execution_count": 39,
   "id": "8yFA2PwkeWBY",
   "metadata": {
    "executionInfo": {
     "elapsed": 288,
     "status": "ok",
     "timestamp": 1715617747163,
     "user": {
      "displayName": "1 2",
      "userId": "15574224089696271775"
     },
     "user_tz": -180
    },
    "id": "8yFA2PwkeWBY"
   },
   "outputs": [],
   "source": [
    "import pandas as pd\n",
    "import datetime, pytz\n",
    "import IPython\n",
    "import matplotlib.pyplot as plt\n",
    "import tinkoff.invest\n",
    "\n",
    "import tradeBot"
   ]
  },
  {
   "cell_type": "code",
   "execution_count": 40,
   "id": "3_QnO7Pied82",
   "metadata": {
    "colab": {
     "base_uri": "https://localhost:8080/"
    },
    "executionInfo": {
     "elapsed": 12200,
     "status": "ok",
     "timestamp": 1715617762270,
     "user": {
      "displayName": "1 2",
      "userId": "15574224089696271775"
     },
     "user_tz": -180
    },
    "id": "3_QnO7Pied82",
    "outputId": "1ba8cf25-fe5c-427f-e7bf-2f5ec8b7c8a3"
   },
   "outputs": [
    {
     "name": "stdout",
     "output_type": "stream",
     "text": [
      "Loading trained models..\n",
      "Done loading trained models\n",
      "############\n",
      "Today is 2024-05-13\n"
     ]
    }
   ],
   "source": [
    "bot = tradeBot.TradeBot(False)"
   ]
  },
  {
   "cell_type": "code",
   "execution_count": 41,
   "id": "IoqKVwd0mGiS",
   "metadata": {
    "executionInfo": {
     "elapsed": 4176,
     "status": "ok",
     "timestamp": 1715617768959,
     "user": {
      "displayName": "1 2",
      "userId": "15574224089696271775"
     },
     "user_tz": -180
    },
    "id": "IoqKVwd0mGiS"
   },
   "outputs": [],
   "source": [
    "histories = bot.getOperationHistory()"
   ]
  },
  {
   "cell_type": "code",
   "execution_count": 42,
   "id": "8aL7GrlyJ4T3",
   "metadata": {
    "executionInfo": {
     "elapsed": 341,
     "status": "ok",
     "timestamp": 1715617771006,
     "user": {
      "displayName": "1 2",
      "userId": "15574224089696271775"
     },
     "user_tz": -180
    },
    "id": "8aL7GrlyJ4T3"
   },
   "outputs": [],
   "source": [
    "IMOEX = \"BBG00KDWPPW2\"\n",
    "IMOEX = \"BBG333333333\"\n",
    "imoexDayResults = {}\n",
    "with tinkoff.invest.Client(bot.token, target=tinkoff.invest.constants.INVEST_GRPC_API_SANDBOX) as client:\n",
    "  candles = client.get_all_candles(instrument_id = IMOEX,\n",
    "      from_ = datetime.datetime.utcnow().replace(tzinfo=pytz.timezone('UTC')) - datetime.timedelta(days=120),\n",
    "      interval = tinkoff.invest.CandleInterval.CANDLE_INTERVAL_DAY,\n",
    "      candle_source_type = tinkoff.invest.schemas.CandleSource.CANDLE_SOURCE_UNSPECIFIED)\n",
    "  for candle in candles:\n",
    "    o = candle.open.units + candle.open.nano * 10**(-9)\n",
    "    c = candle.close.units + candle.close.nano * 10**(-9)\n",
    "    imoexDayResults[candle.time.date()] = c / o"
   ]
  },
  {
   "cell_type": "code",
   "execution_count": 43,
   "id": "MXtBtTSAmGlX",
   "metadata": {
    "executionInfo": {
     "elapsed": 280,
     "status": "ok",
     "timestamp": 1715617775322,
     "user": {
      "displayName": "1 2",
      "userId": "15574224089696271775"
     },
     "user_tz": -180
    },
    "id": "MXtBtTSAmGlX"
   },
   "outputs": [],
   "source": [
    "def displayStatsForHistory(history, imoexDayResults):\n",
    "  columns = [\"ticker\", \"day\", \"moneySpent\", \"moneyRecieved\", \"outcome\"]\n",
    "  colData = {}\n",
    "  days = {}\n",
    "  lastDay = None\n",
    "  accountNum = 0\n",
    "  bank = history[\"totalMoney\"]\n",
    "  bankHistory = [bank]\n",
    "  refBank = bank\n",
    "  refHistory = [bank]\n",
    "\n",
    "  for i in range(len(history[\"actions\"])):\n",
    "    day = history[\"actions\"][i][\"day\"]\n",
    "    if not day in days:\n",
    "      days[day] = 0\n",
    "      if lastDay is not None:\n",
    "        change = days[lastDay]\n",
    "        days[lastDay] = change / bank\n",
    "        bank += change\n",
    "        bankHistory.append(bank)\n",
    "        refBank *= imoexDayResults[day]\n",
    "        refHistory.append(refBank)\n",
    "      lastDay = day\n",
    "    if \"moneyRecieved\" in history[\"actions\"][i]:\n",
    "      days[day] += history[\"actions\"][i][\"moneyRecieved\"] - history[\"actions\"][i][\"moneySpent\"]\n",
    "    for col in columns:\n",
    "      colData.setdefault(col, [])\n",
    "      if col in history[\"actions\"][i]:\n",
    "        colData[col].append(history[\"actions\"][i][col])\n",
    "      else:\n",
    "        colData[col].append(0)\n",
    "\n",
    "  df = pd.DataFrame(colData, columns = columns)\n",
    "  df[\"moneyChange\"] = df[\"moneyRecieved\"] - df[\"moneySpent\"]\n",
    "  for day in days:\n",
    "    dfDay = df[df[\"day\"] == day]\n",
    "    IPython.display.display(dfDay.style.set_caption(\"<b>\" + str(day) + \" {:+.2f}%\".format(100*days[day]) + \"</b>\"))\n",
    "    print()\n",
    "  plt.figure()\n",
    "  plt.grid()\n",
    "  plt.plot(list(days.keys()), bankHistory, label=\"Trading\")\n",
    "  plt.plot(list(days.keys()), refHistory, label=\"IMOEX\")\n",
    "  plt.legend()\n",
    "  plt.xticks(rotation=90);"
   ]
  },
  {
   "cell_type": "code",
   "execution_count": 44,
   "id": "qmDDneQN7x4v",
   "metadata": {
    "colab": {
     "base_uri": "https://localhost:8080/",
     "height": 1000
    },
    "executionInfo": {
     "elapsed": 791,
     "status": "ok",
     "timestamp": 1715617777129,
     "user": {
      "displayName": "1 2",
      "userId": "15574224089696271775"
     },
     "user_tz": -180
    },
    "id": "qmDDneQN7x4v",
    "outputId": "62837d86-6490-445b-e77e-aeea5ba28add"
   },
   "outputs": [
    {
     "data": {
      "text/html": [
       "<style type=\"text/css\">\n",
       "</style>\n",
       "<table id=\"T_3f98b\" class=\"dataframe\">\n",
       "  <caption><b>2024-05-02 -0.57%</b></caption>\n",
       "  <thead>\n",
       "    <tr>\n",
       "      <th class=\"blank level0\" >&nbsp;</th>\n",
       "      <th id=\"T_3f98b_level0_col0\" class=\"col_heading level0 col0\" >ticker</th>\n",
       "      <th id=\"T_3f98b_level0_col1\" class=\"col_heading level0 col1\" >day</th>\n",
       "      <th id=\"T_3f98b_level0_col2\" class=\"col_heading level0 col2\" >moneySpent</th>\n",
       "      <th id=\"T_3f98b_level0_col3\" class=\"col_heading level0 col3\" >moneyRecieved</th>\n",
       "      <th id=\"T_3f98b_level0_col4\" class=\"col_heading level0 col4\" >outcome</th>\n",
       "      <th id=\"T_3f98b_level0_col5\" class=\"col_heading level0 col5\" >moneyChange</th>\n",
       "    </tr>\n",
       "  </thead>\n",
       "  <tbody>\n",
       "    <tr>\n",
       "      <th id=\"T_3f98b_level0_row0\" class=\"row_heading level0 row0\" >0</th>\n",
       "      <td id=\"T_3f98b_row0_col0\" class=\"data row0 col0\" >LSRG</td>\n",
       "      <td id=\"T_3f98b_row0_col1\" class=\"data row0 col1\" >2024-05-02</td>\n",
       "      <td id=\"T_3f98b_row0_col2\" class=\"data row0 col2\" >195156.000000</td>\n",
       "      <td id=\"T_3f98b_row0_col3\" class=\"data row0 col3\" >189150.000000</td>\n",
       "      <td id=\"T_3f98b_row0_col4\" class=\"data row0 col4\" >-0.030775</td>\n",
       "      <td id=\"T_3f98b_row0_col5\" class=\"data row0 col5\" >-6006.000000</td>\n",
       "    </tr>\n",
       "    <tr>\n",
       "      <th id=\"T_3f98b_level0_row1\" class=\"row_heading level0 row1\" >1</th>\n",
       "      <td id=\"T_3f98b_row1_col0\" class=\"data row1 col0\" >ZILLP</td>\n",
       "      <td id=\"T_3f98b_row1_col1\" class=\"data row1 col1\" >2024-05-02</td>\n",
       "      <td id=\"T_3f98b_row1_col2\" class=\"data row1 col2\" >197748.000000</td>\n",
       "      <td id=\"T_3f98b_row1_col3\" class=\"data row1 col3\" >187974.540000</td>\n",
       "      <td id=\"T_3f98b_row1_col4\" class=\"data row1 col4\" >-0.049424</td>\n",
       "      <td id=\"T_3f98b_row1_col5\" class=\"data row1 col5\" >-9773.460000</td>\n",
       "    </tr>\n",
       "    <tr>\n",
       "      <th id=\"T_3f98b_level0_row2\" class=\"row_heading level0 row2\" >2</th>\n",
       "      <td id=\"T_3f98b_row2_col0\" class=\"data row2 col0\" >NOMPP</td>\n",
       "      <td id=\"T_3f98b_row2_col1\" class=\"data row2 col1\" >2024-05-02</td>\n",
       "      <td id=\"T_3f98b_row2_col2\" class=\"data row2 col2\" >212706.000000</td>\n",
       "      <td id=\"T_3f98b_row2_col3\" class=\"data row2 col3\" >202652.460000</td>\n",
       "      <td id=\"T_3f98b_row2_col4\" class=\"data row2 col4\" >-0.047265</td>\n",
       "      <td id=\"T_3f98b_row2_col5\" class=\"data row2 col5\" >-10053.540000</td>\n",
       "    </tr>\n",
       "    <tr>\n",
       "      <th id=\"T_3f98b_level0_row3\" class=\"row_heading level0 row3\" >3</th>\n",
       "      <td id=\"T_3f98b_row3_col0\" class=\"data row3 col0\" >SFIN</td>\n",
       "      <td id=\"T_3f98b_row3_col1\" class=\"data row3 col1\" >2024-05-02</td>\n",
       "      <td id=\"T_3f98b_row3_col2\" class=\"data row3 col2\" >202844.400000</td>\n",
       "      <td id=\"T_3f98b_row3_col3\" class=\"data row3 col3\" >206375.000000</td>\n",
       "      <td id=\"T_3f98b_row3_col4\" class=\"data row3 col4\" >0.017405</td>\n",
       "      <td id=\"T_3f98b_row3_col5\" class=\"data row3 col5\" >3530.600000</td>\n",
       "    </tr>\n",
       "    <tr>\n",
       "      <th id=\"T_3f98b_level0_row4\" class=\"row_heading level0 row4\" >4</th>\n",
       "      <td id=\"T_3f98b_row4_col0\" class=\"data row4 col0\" >SFIN</td>\n",
       "      <td id=\"T_3f98b_row4_col1\" class=\"data row4 col1\" >2024-05-02</td>\n",
       "      <td id=\"T_3f98b_row4_col2\" class=\"data row4 col2\" >81850.000000</td>\n",
       "      <td id=\"T_3f98b_row4_col3\" class=\"data row4 col3\" >81520.000000</td>\n",
       "      <td id=\"T_3f98b_row4_col4\" class=\"data row4 col4\" >-0.004032</td>\n",
       "      <td id=\"T_3f98b_row4_col5\" class=\"data row4 col5\" >-330.000000</td>\n",
       "    </tr>\n",
       "    <tr>\n",
       "      <th id=\"T_3f98b_level0_row5\" class=\"row_heading level0 row5\" >5</th>\n",
       "      <td id=\"T_3f98b_row5_col0\" class=\"data row5 col0\" >SFIN</td>\n",
       "      <td id=\"T_3f98b_row5_col1\" class=\"data row5 col1\" >2024-05-02</td>\n",
       "      <td id=\"T_3f98b_row5_col2\" class=\"data row5 col2\" >81550.000000</td>\n",
       "      <td id=\"T_3f98b_row5_col3\" class=\"data row5 col3\" >81410.000000</td>\n",
       "      <td id=\"T_3f98b_row5_col4\" class=\"data row5 col4\" >-0.001717</td>\n",
       "      <td id=\"T_3f98b_row5_col5\" class=\"data row5 col5\" >-140.000000</td>\n",
       "    </tr>\n",
       "    <tr>\n",
       "      <th id=\"T_3f98b_level0_row6\" class=\"row_heading level0 row6\" >6</th>\n",
       "      <td id=\"T_3f98b_row6_col0\" class=\"data row6 col0\" >SFIN</td>\n",
       "      <td id=\"T_3f98b_row6_col1\" class=\"data row6 col1\" >2024-05-02</td>\n",
       "      <td id=\"T_3f98b_row6_col2\" class=\"data row6 col2\" >81080.000000</td>\n",
       "      <td id=\"T_3f98b_row6_col3\" class=\"data row6 col3\" >81210.000000</td>\n",
       "      <td id=\"T_3f98b_row6_col4\" class=\"data row6 col4\" >0.001603</td>\n",
       "      <td id=\"T_3f98b_row6_col5\" class=\"data row6 col5\" >130.000000</td>\n",
       "    </tr>\n",
       "  </tbody>\n",
       "</table>\n"
      ],
      "text/plain": [
       "<pandas.io.formats.style.Styler at 0x7cb410f75f90>"
      ]
     },
     "metadata": {},
     "output_type": "display_data"
    },
    {
     "name": "stdout",
     "output_type": "stream",
     "text": [
      "\n"
     ]
    },
    {
     "data": {
      "text/html": [
       "<style type=\"text/css\">\n",
       "</style>\n",
       "<table id=\"T_47926\" class=\"dataframe\">\n",
       "  <caption><b>2024-05-03 +0.09%</b></caption>\n",
       "  <thead>\n",
       "    <tr>\n",
       "      <th class=\"blank level0\" >&nbsp;</th>\n",
       "      <th id=\"T_47926_level0_col0\" class=\"col_heading level0 col0\" >ticker</th>\n",
       "      <th id=\"T_47926_level0_col1\" class=\"col_heading level0 col1\" >day</th>\n",
       "      <th id=\"T_47926_level0_col2\" class=\"col_heading level0 col2\" >moneySpent</th>\n",
       "      <th id=\"T_47926_level0_col3\" class=\"col_heading level0 col3\" >moneyRecieved</th>\n",
       "      <th id=\"T_47926_level0_col4\" class=\"col_heading level0 col4\" >outcome</th>\n",
       "      <th id=\"T_47926_level0_col5\" class=\"col_heading level0 col5\" >moneyChange</th>\n",
       "    </tr>\n",
       "  </thead>\n",
       "  <tbody>\n",
       "    <tr>\n",
       "      <th id=\"T_47926_level0_row0\" class=\"row_heading level0 row0\" >7</th>\n",
       "      <td id=\"T_47926_row0_col0\" class=\"data row0 col0\" >GTRK</td>\n",
       "      <td id=\"T_47926_row0_col1\" class=\"data row0 col1\" >2024-05-03</td>\n",
       "      <td id=\"T_47926_row0_col2\" class=\"data row0 col2\" >156736.000000</td>\n",
       "      <td id=\"T_47926_row0_col3\" class=\"data row0 col3\" >165664.000000</td>\n",
       "      <td id=\"T_47926_row0_col4\" class=\"data row0 col4\" >0.056962</td>\n",
       "      <td id=\"T_47926_row0_col5\" class=\"data row0 col5\" >8928.000000</td>\n",
       "    </tr>\n",
       "    <tr>\n",
       "      <th id=\"T_47926_level0_row1\" class=\"row_heading level0 row1\" >8</th>\n",
       "      <td id=\"T_47926_row1_col0\" class=\"data row1 col0\" >ZILLP</td>\n",
       "      <td id=\"T_47926_row1_col1\" class=\"data row1 col1\" >2024-05-03</td>\n",
       "      <td id=\"T_47926_row1_col2\" class=\"data row1 col2\" >157372.740000</td>\n",
       "      <td id=\"T_47926_row1_col3\" class=\"data row1 col3\" >147630.000000</td>\n",
       "      <td id=\"T_47926_row1_col4\" class=\"data row1 col4\" >-0.061909</td>\n",
       "      <td id=\"T_47926_row1_col5\" class=\"data row1 col5\" >-9742.740000</td>\n",
       "    </tr>\n",
       "    <tr>\n",
       "      <th id=\"T_47926_level0_row2\" class=\"row_heading level0 row2\" >9</th>\n",
       "      <td id=\"T_47926_row2_col0\" class=\"data row2 col0\" >HHRU</td>\n",
       "      <td id=\"T_47926_row2_col1\" class=\"data row2 col1\" >2024-05-03</td>\n",
       "      <td id=\"T_47926_row2_col2\" class=\"data row2 col2\" >156480.000000</td>\n",
       "      <td id=\"T_47926_row2_col3\" class=\"data row2 col3\" >164256.000000</td>\n",
       "      <td id=\"T_47926_row2_col4\" class=\"data row2 col4\" >0.049693</td>\n",
       "      <td id=\"T_47926_row2_col5\" class=\"data row2 col5\" >7776.000000</td>\n",
       "    </tr>\n",
       "    <tr>\n",
       "      <th id=\"T_47926_level0_row3\" class=\"row_heading level0 row3\" >10</th>\n",
       "      <td id=\"T_47926_row3_col0\" class=\"data row3 col0\" >TGKB</td>\n",
       "      <td id=\"T_47926_row3_col1\" class=\"data row3 col1\" >2024-05-03</td>\n",
       "      <td id=\"T_47926_row3_col2\" class=\"data row3 col2\" >147785.000000</td>\n",
       "      <td id=\"T_47926_row3_col3\" class=\"data row3 col3\" >147345.000000</td>\n",
       "      <td id=\"T_47926_row3_col4\" class=\"data row3 col4\" >-0.002977</td>\n",
       "      <td id=\"T_47926_row3_col5\" class=\"data row3 col5\" >-440.000000</td>\n",
       "    </tr>\n",
       "    <tr>\n",
       "      <th id=\"T_47926_level0_row4\" class=\"row_heading level0 row4\" >11</th>\n",
       "      <td id=\"T_47926_row4_col0\" class=\"data row4 col0\" >GRNT</td>\n",
       "      <td id=\"T_47926_row4_col1\" class=\"data row4 col1\" >2024-05-03</td>\n",
       "      <td id=\"T_47926_row4_col2\" class=\"data row4 col2\" >160257.942000</td>\n",
       "      <td id=\"T_47926_row4_col3\" class=\"data row4 col3\" >158340.325600</td>\n",
       "      <td id=\"T_47926_row4_col4\" class=\"data row4 col4\" >-0.011966</td>\n",
       "      <td id=\"T_47926_row4_col5\" class=\"data row4 col5\" >-1917.616400</td>\n",
       "    </tr>\n",
       "    <tr>\n",
       "      <th id=\"T_47926_level0_row5\" class=\"row_heading level0 row5\" >12</th>\n",
       "      <td id=\"T_47926_row5_col0\" class=\"data row5 col0\" >IRKT</td>\n",
       "      <td id=\"T_47926_row5_col1\" class=\"data row5 col1\" >2024-05-03</td>\n",
       "      <td id=\"T_47926_row5_col2\" class=\"data row5 col2\" >154000.000000</td>\n",
       "      <td id=\"T_47926_row5_col3\" class=\"data row5 col3\" >152790.000000</td>\n",
       "      <td id=\"T_47926_row5_col4\" class=\"data row5 col4\" >-0.007857</td>\n",
       "      <td id=\"T_47926_row5_col5\" class=\"data row5 col5\" >-1210.000000</td>\n",
       "    </tr>\n",
       "  </tbody>\n",
       "</table>\n"
      ],
      "text/plain": [
       "<pandas.io.formats.style.Styler at 0x7cb410f76770>"
      ]
     },
     "metadata": {},
     "output_type": "display_data"
    },
    {
     "name": "stdout",
     "output_type": "stream",
     "text": [
      "\n"
     ]
    },
    {
     "data": {
      "text/html": [
       "<style type=\"text/css\">\n",
       "</style>\n",
       "<table id=\"T_b5eb4\" class=\"dataframe\">\n",
       "  <caption><b>2024-05-06 -0.08%</b></caption>\n",
       "  <thead>\n",
       "    <tr>\n",
       "      <th class=\"blank level0\" >&nbsp;</th>\n",
       "      <th id=\"T_b5eb4_level0_col0\" class=\"col_heading level0 col0\" >ticker</th>\n",
       "      <th id=\"T_b5eb4_level0_col1\" class=\"col_heading level0 col1\" >day</th>\n",
       "      <th id=\"T_b5eb4_level0_col2\" class=\"col_heading level0 col2\" >moneySpent</th>\n",
       "      <th id=\"T_b5eb4_level0_col3\" class=\"col_heading level0 col3\" >moneyRecieved</th>\n",
       "      <th id=\"T_b5eb4_level0_col4\" class=\"col_heading level0 col4\" >outcome</th>\n",
       "      <th id=\"T_b5eb4_level0_col5\" class=\"col_heading level0 col5\" >moneyChange</th>\n",
       "    </tr>\n",
       "  </thead>\n",
       "  <tbody>\n",
       "    <tr>\n",
       "      <th id=\"T_b5eb4_level0_row0\" class=\"row_heading level0 row0\" >13</th>\n",
       "      <td id=\"T_b5eb4_row0_col0\" class=\"data row0 col0\" >MRKU</td>\n",
       "      <td id=\"T_b5eb4_row0_col1\" class=\"data row0 col1\" >2024-05-06</td>\n",
       "      <td id=\"T_b5eb4_row0_col2\" class=\"data row0 col2\" >153594.000000</td>\n",
       "      <td id=\"T_b5eb4_row0_col3\" class=\"data row0 col3\" >154652.000000</td>\n",
       "      <td id=\"T_b5eb4_row0_col4\" class=\"data row0 col4\" >0.006888</td>\n",
       "      <td id=\"T_b5eb4_row0_col5\" class=\"data row0 col5\" >1058.000000</td>\n",
       "    </tr>\n",
       "    <tr>\n",
       "      <th id=\"T_b5eb4_level0_row1\" class=\"row_heading level0 row1\" >14</th>\n",
       "      <td id=\"T_b5eb4_row1_col0\" class=\"data row1 col0\" >ZILLP</td>\n",
       "      <td id=\"T_b5eb4_row1_col1\" class=\"data row1 col1\" >2024-05-06</td>\n",
       "      <td id=\"T_b5eb4_row1_col2\" class=\"data row1 col2\" >156998.000000</td>\n",
       "      <td id=\"T_b5eb4_row1_col3\" class=\"data row1 col3\" >152812.460000</td>\n",
       "      <td id=\"T_b5eb4_row1_col4\" class=\"data row1 col4\" >-0.026660</td>\n",
       "      <td id=\"T_b5eb4_row1_col5\" class=\"data row1 col5\" >-4185.540000</td>\n",
       "    </tr>\n",
       "  </tbody>\n",
       "</table>\n"
      ],
      "text/plain": [
       "<pandas.io.formats.style.Styler at 0x7cb410f742b0>"
      ]
     },
     "metadata": {},
     "output_type": "display_data"
    },
    {
     "name": "stdout",
     "output_type": "stream",
     "text": [
      "\n"
     ]
    },
    {
     "data": {
      "text/html": [
       "<style type=\"text/css\">\n",
       "</style>\n",
       "<table id=\"T_cdf86\" class=\"dataframe\">\n",
       "  <caption><b>2024-05-07 +0.02%</b></caption>\n",
       "  <thead>\n",
       "    <tr>\n",
       "      <th class=\"blank level0\" >&nbsp;</th>\n",
       "      <th id=\"T_cdf86_level0_col0\" class=\"col_heading level0 col0\" >ticker</th>\n",
       "      <th id=\"T_cdf86_level0_col1\" class=\"col_heading level0 col1\" >day</th>\n",
       "      <th id=\"T_cdf86_level0_col2\" class=\"col_heading level0 col2\" >moneySpent</th>\n",
       "      <th id=\"T_cdf86_level0_col3\" class=\"col_heading level0 col3\" >moneyRecieved</th>\n",
       "      <th id=\"T_cdf86_level0_col4\" class=\"col_heading level0 col4\" >outcome</th>\n",
       "      <th id=\"T_cdf86_level0_col5\" class=\"col_heading level0 col5\" >moneyChange</th>\n",
       "    </tr>\n",
       "  </thead>\n",
       "  <tbody>\n",
       "    <tr>\n",
       "      <th id=\"T_cdf86_level0_row0\" class=\"row_heading level0 row0\" >15</th>\n",
       "      <td id=\"T_cdf86_row0_col0\" class=\"data row0 col0\" >GRNT</td>\n",
       "      <td id=\"T_cdf86_row0_col1\" class=\"data row0 col1\" >2024-05-07</td>\n",
       "      <td id=\"T_cdf86_row0_col2\" class=\"data row0 col2\" >636825.564000</td>\n",
       "      <td id=\"T_cdf86_row0_col3\" class=\"data row0 col3\" >636235.910700</td>\n",
       "      <td id=\"T_cdf86_row0_col4\" class=\"data row0 col4\" >-0.000926</td>\n",
       "      <td id=\"T_cdf86_row0_col5\" class=\"data row0 col5\" >-589.653300</td>\n",
       "    </tr>\n",
       "    <tr>\n",
       "      <th id=\"T_cdf86_level0_row1\" class=\"row_heading level0 row1\" >16</th>\n",
       "      <td id=\"T_cdf86_row1_col0\" class=\"data row1 col0\" >GTRK</td>\n",
       "      <td id=\"T_cdf86_row1_col1\" class=\"data row1 col1\" >2024-05-07</td>\n",
       "      <td id=\"T_cdf86_row1_col2\" class=\"data row1 col2\" >648384.000000</td>\n",
       "      <td id=\"T_cdf86_row1_col3\" class=\"data row1 col3\" >649572.000000</td>\n",
       "      <td id=\"T_cdf86_row1_col4\" class=\"data row1 col4\" >0.001832</td>\n",
       "      <td id=\"T_cdf86_row1_col5\" class=\"data row1 col5\" >1188.000000</td>\n",
       "    </tr>\n",
       "  </tbody>\n",
       "</table>\n"
      ],
      "text/plain": [
       "<pandas.io.formats.style.Styler at 0x7cb410f76230>"
      ]
     },
     "metadata": {},
     "output_type": "display_data"
    },
    {
     "name": "stdout",
     "output_type": "stream",
     "text": [
      "\n"
     ]
    },
    {
     "data": {
      "text/html": [
       "<style type=\"text/css\">\n",
       "</style>\n",
       "<table id=\"T_ce62e\" class=\"dataframe\">\n",
       "  <caption><b>2024-05-08 -1.50%</b></caption>\n",
       "  <thead>\n",
       "    <tr>\n",
       "      <th class=\"blank level0\" >&nbsp;</th>\n",
       "      <th id=\"T_ce62e_level0_col0\" class=\"col_heading level0 col0\" >ticker</th>\n",
       "      <th id=\"T_ce62e_level0_col1\" class=\"col_heading level0 col1\" >day</th>\n",
       "      <th id=\"T_ce62e_level0_col2\" class=\"col_heading level0 col2\" >moneySpent</th>\n",
       "      <th id=\"T_ce62e_level0_col3\" class=\"col_heading level0 col3\" >moneyRecieved</th>\n",
       "      <th id=\"T_ce62e_level0_col4\" class=\"col_heading level0 col4\" >outcome</th>\n",
       "      <th id=\"T_ce62e_level0_col5\" class=\"col_heading level0 col5\" >moneyChange</th>\n",
       "    </tr>\n",
       "  </thead>\n",
       "  <tbody>\n",
       "    <tr>\n",
       "      <th id=\"T_ce62e_level0_row0\" class=\"row_heading level0 row0\" >17</th>\n",
       "      <td id=\"T_ce62e_row0_col0\" class=\"data row0 col0\" >ZILLP</td>\n",
       "      <td id=\"T_ce62e_row0_col1\" class=\"data row0 col1\" >2024-05-08</td>\n",
       "      <td id=\"T_ce62e_row0_col2\" class=\"data row0 col2\" >647954.180000</td>\n",
       "      <td id=\"T_ce62e_row0_col3\" class=\"data row0 col3\" >611100.000000</td>\n",
       "      <td id=\"T_ce62e_row0_col4\" class=\"data row0 col4\" >-0.056878</td>\n",
       "      <td id=\"T_ce62e_row0_col5\" class=\"data row0 col5\" >-36854.180000</td>\n",
       "    </tr>\n",
       "    <tr>\n",
       "      <th id=\"T_ce62e_level0_row1\" class=\"row_heading level0 row1\" >18</th>\n",
       "      <td id=\"T_ce62e_row1_col0\" class=\"data row1 col0\" >GRNT</td>\n",
       "      <td id=\"T_ce62e_row1_col1\" class=\"data row1 col1\" >2024-05-08</td>\n",
       "      <td id=\"T_ce62e_row1_col2\" class=\"data row1 col2\" >651353.670000</td>\n",
       "      <td id=\"T_ce62e_row1_col3\" class=\"data row1 col3\" >635365.898100</td>\n",
       "      <td id=\"T_ce62e_row1_col4\" class=\"data row1 col4\" >-0.024545</td>\n",
       "      <td id=\"T_ce62e_row1_col5\" class=\"data row1 col5\" >-15987.771900</td>\n",
       "    </tr>\n",
       "    <tr>\n",
       "      <th id=\"T_ce62e_level0_row2\" class=\"row_heading level0 row2\" >19</th>\n",
       "      <td id=\"T_ce62e_row2_col0\" class=\"data row2 col0\" >VRSB</td>\n",
       "      <td id=\"T_ce62e_row2_col1\" class=\"data row2 col1\" >2024-05-08</td>\n",
       "      <td id=\"T_ce62e_row2_col2\" class=\"data row2 col2\" >642200.000000</td>\n",
       "      <td id=\"T_ce62e_row2_col3\" class=\"data row2 col3\" >635550.000000</td>\n",
       "      <td id=\"T_ce62e_row2_col4\" class=\"data row2 col4\" >-0.010355</td>\n",
       "      <td id=\"T_ce62e_row2_col5\" class=\"data row2 col5\" >-6650.000000</td>\n",
       "    </tr>\n",
       "  </tbody>\n",
       "</table>\n"
      ],
      "text/plain": [
       "<pandas.io.formats.style.Styler at 0x7cb410f742e0>"
      ]
     },
     "metadata": {},
     "output_type": "display_data"
    },
    {
     "name": "stdout",
     "output_type": "stream",
     "text": [
      "\n"
     ]
    },
    {
     "data": {
      "text/html": [
       "<style type=\"text/css\">\n",
       "</style>\n",
       "<table id=\"T_3538a\" class=\"dataframe\">\n",
       "  <caption><b>2024-05-10 -0.33%</b></caption>\n",
       "  <thead>\n",
       "    <tr>\n",
       "      <th class=\"blank level0\" >&nbsp;</th>\n",
       "      <th id=\"T_3538a_level0_col0\" class=\"col_heading level0 col0\" >ticker</th>\n",
       "      <th id=\"T_3538a_level0_col1\" class=\"col_heading level0 col1\" >day</th>\n",
       "      <th id=\"T_3538a_level0_col2\" class=\"col_heading level0 col2\" >moneySpent</th>\n",
       "      <th id=\"T_3538a_level0_col3\" class=\"col_heading level0 col3\" >moneyRecieved</th>\n",
       "      <th id=\"T_3538a_level0_col4\" class=\"col_heading level0 col4\" >outcome</th>\n",
       "      <th id=\"T_3538a_level0_col5\" class=\"col_heading level0 col5\" >moneyChange</th>\n",
       "    </tr>\n",
       "  </thead>\n",
       "  <tbody>\n",
       "    <tr>\n",
       "      <th id=\"T_3538a_level0_row0\" class=\"row_heading level0 row0\" >20</th>\n",
       "      <td id=\"T_3538a_row0_col0\" class=\"data row0 col0\" >QIWI</td>\n",
       "      <td id=\"T_3538a_row0_col1\" class=\"data row0 col1\" >2024-05-10</td>\n",
       "      <td id=\"T_3538a_row0_col2\" class=\"data row0 col2\" >628767.600000</td>\n",
       "      <td id=\"T_3538a_row0_col3\" class=\"data row0 col3\" >614837.200000</td>\n",
       "      <td id=\"T_3538a_row0_col4\" class=\"data row0 col4\" >-0.022155</td>\n",
       "      <td id=\"T_3538a_row0_col5\" class=\"data row0 col5\" >-13930.400000</td>\n",
       "    </tr>\n",
       "    <tr>\n",
       "      <th id=\"T_3538a_level0_row1\" class=\"row_heading level0 row1\" >21</th>\n",
       "      <td id=\"T_3538a_row1_col0\" class=\"data row1 col0\" >MRKV</td>\n",
       "      <td id=\"T_3538a_row1_col1\" class=\"data row1 col1\" >2024-05-10</td>\n",
       "      <td id=\"T_3538a_row1_col2\" class=\"data row1 col2\" >622566.000000</td>\n",
       "      <td id=\"T_3538a_row1_col3\" class=\"data row1 col3\" >623420.000000</td>\n",
       "      <td id=\"T_3538a_row1_col4\" class=\"data row1 col4\" >0.001372</td>\n",
       "      <td id=\"T_3538a_row1_col5\" class=\"data row1 col5\" >854.000000</td>\n",
       "    </tr>\n",
       "  </tbody>\n",
       "</table>\n"
      ],
      "text/plain": [
       "<pandas.io.formats.style.Styler at 0x7cb410f74460>"
      ]
     },
     "metadata": {},
     "output_type": "display_data"
    },
    {
     "name": "stdout",
     "output_type": "stream",
     "text": [
      "\n"
     ]
    },
    {
     "data": {
      "text/html": [
       "<style type=\"text/css\">\n",
       "</style>\n",
       "<table id=\"T_a9dd7\" class=\"dataframe\">\n",
       "  <caption><b>2024-05-13 +2116919.10%</b></caption>\n",
       "  <thead>\n",
       "    <tr>\n",
       "      <th class=\"blank level0\" >&nbsp;</th>\n",
       "      <th id=\"T_a9dd7_level0_col0\" class=\"col_heading level0 col0\" >ticker</th>\n",
       "      <th id=\"T_a9dd7_level0_col1\" class=\"col_heading level0 col1\" >day</th>\n",
       "      <th id=\"T_a9dd7_level0_col2\" class=\"col_heading level0 col2\" >moneySpent</th>\n",
       "      <th id=\"T_a9dd7_level0_col3\" class=\"col_heading level0 col3\" >moneyRecieved</th>\n",
       "      <th id=\"T_a9dd7_level0_col4\" class=\"col_heading level0 col4\" >outcome</th>\n",
       "      <th id=\"T_a9dd7_level0_col5\" class=\"col_heading level0 col5\" >moneyChange</th>\n",
       "    </tr>\n",
       "  </thead>\n",
       "  <tbody>\n",
       "    <tr>\n",
       "      <th id=\"T_a9dd7_level0_row0\" class=\"row_heading level0 row0\" >22</th>\n",
       "      <td id=\"T_a9dd7_row0_col0\" class=\"data row0 col0\" >QIWI</td>\n",
       "      <td id=\"T_a9dd7_row0_col1\" class=\"data row0 col1\" >2024-05-13</td>\n",
       "      <td id=\"T_a9dd7_row0_col2\" class=\"data row0 col2\" >1277463.600000</td>\n",
       "      <td id=\"T_a9dd7_row0_col3\" class=\"data row0 col3\" >1329711.600000</td>\n",
       "      <td id=\"T_a9dd7_row0_col4\" class=\"data row0 col4\" >0.040900</td>\n",
       "      <td id=\"T_a9dd7_row0_col5\" class=\"data row0 col5\" >52248.000000</td>\n",
       "    </tr>\n",
       "    <tr>\n",
       "      <th id=\"T_a9dd7_level0_row1\" class=\"row_heading level0 row1\" >23</th>\n",
       "      <td id=\"T_a9dd7_row1_col0\" class=\"data row1 col0\" >PMSBP</td>\n",
       "      <td id=\"T_a9dd7_row1_col1\" class=\"data row1 col1\" >2024-05-13</td>\n",
       "      <td id=\"T_a9dd7_row1_col2\" class=\"data row1 col2\" >1276308.000000</td>\n",
       "      <td id=\"T_a9dd7_row1_col3\" class=\"data row1 col3\" >1220406.000000</td>\n",
       "      <td id=\"T_a9dd7_row1_col4\" class=\"data row1 col4\" >-0.043800</td>\n",
       "      <td id=\"T_a9dd7_row1_col5\" class=\"data row1 col5\" >-55902.000000</td>\n",
       "    </tr>\n",
       "    <tr>\n",
       "      <th id=\"T_a9dd7_level0_row2\" class=\"row_heading level0 row2\" >24</th>\n",
       "      <td id=\"T_a9dd7_row2_col0\" class=\"data row2 col0\" >ORUP</td>\n",
       "      <td id=\"T_a9dd7_row2_col1\" class=\"data row2 col1\" >2024-05-13</td>\n",
       "      <td id=\"T_a9dd7_row2_col2\" class=\"data row2 col2\" >1282355.484000</td>\n",
       "      <td id=\"T_a9dd7_row2_col3\" class=\"data row2 col3\" >1307178.675000</td>\n",
       "      <td id=\"T_a9dd7_row2_col4\" class=\"data row2 col4\" >0.019357</td>\n",
       "      <td id=\"T_a9dd7_row2_col5\" class=\"data row2 col5\" >24823.191000</td>\n",
       "    </tr>\n",
       "  </tbody>\n",
       "</table>\n"
      ],
      "text/plain": [
       "<pandas.io.formats.style.Styler at 0x7cb410f75660>"
      ]
     },
     "metadata": {},
     "output_type": "display_data"
    },
    {
     "name": "stdout",
     "output_type": "stream",
     "text": [
      "\n"
     ]
    },
    {
     "data": {
      "image/png": "[encoded data removed]",
      "text/plain": [
       "<Figure size 640x480 with 1 Axes>"
      ]
     },
     "metadata": {},
     "output_type": "display_data"
    }
   ],
   "source": [
    "displayStatsForHistory(histories[0], imoexDayResults)"
   ]
  },
  {
   "cell_type": "code",
   "execution_count": 45,
   "id": "fWq14Jly76id",
   "metadata": {
    "colab": {
     "base_uri": "https://localhost:8080/",
     "height": 1000
    },
    "executionInfo": {
     "elapsed": 716,
     "status": "ok",
     "timestamp": 1715617783000,
     "user": {
      "displayName": "1 2",
      "userId": "15574224089696271775"
     },
     "user_tz": -180
    },
    "id": "fWq14Jly76id",
    "outputId": "33038632-ac9c-46bb-d2f6-918a10ebd7a6"
   },
   "outputs": [
    {
     "data": {
      "text/html": [
       "<style type=\"text/css\">\n",
       "</style>\n",
       "<table id=\"T_7c74f\" class=\"dataframe\">\n",
       "  <caption><b>2024-05-02 -0.34%</b></caption>\n",
       "  <thead>\n",
       "    <tr>\n",
       "      <th class=\"blank level0\" >&nbsp;</th>\n",
       "      <th id=\"T_7c74f_level0_col0\" class=\"col_heading level0 col0\" >ticker</th>\n",
       "      <th id=\"T_7c74f_level0_col1\" class=\"col_heading level0 col1\" >day</th>\n",
       "      <th id=\"T_7c74f_level0_col2\" class=\"col_heading level0 col2\" >moneySpent</th>\n",
       "      <th id=\"T_7c74f_level0_col3\" class=\"col_heading level0 col3\" >moneyRecieved</th>\n",
       "      <th id=\"T_7c74f_level0_col4\" class=\"col_heading level0 col4\" >outcome</th>\n",
       "      <th id=\"T_7c74f_level0_col5\" class=\"col_heading level0 col5\" >moneyChange</th>\n",
       "    </tr>\n",
       "  </thead>\n",
       "  <tbody>\n",
       "    <tr>\n",
       "      <th id=\"T_7c74f_level0_row0\" class=\"row_heading level0 row0\" >0</th>\n",
       "      <td id=\"T_7c74f_row0_col0\" class=\"data row0 col0\" >SFIN</td>\n",
       "      <td id=\"T_7c74f_row0_col1\" class=\"data row0 col1\" >2024-05-02</td>\n",
       "      <td id=\"T_7c74f_row0_col2\" class=\"data row0 col2\" >202844.400000</td>\n",
       "      <td id=\"T_7c74f_row0_col3\" class=\"data row0 col3\" >198374.000000</td>\n",
       "      <td id=\"T_7c74f_row0_col4\" class=\"data row0 col4\" >-0.022039</td>\n",
       "      <td id=\"T_7c74f_row0_col5\" class=\"data row0 col5\" >-4470.400000</td>\n",
       "    </tr>\n",
       "    <tr>\n",
       "      <th id=\"T_7c74f_level0_row1\" class=\"row_heading level0 row1\" >1</th>\n",
       "      <td id=\"T_7c74f_row1_col0\" class=\"data row1 col0\" >LSRG</td>\n",
       "      <td id=\"T_7c74f_row1_col1\" class=\"data row1 col1\" >2024-05-02</td>\n",
       "      <td id=\"T_7c74f_row1_col2\" class=\"data row1 col2\" >194961.000000</td>\n",
       "      <td id=\"T_7c74f_row1_col3\" class=\"data row1 col3\" >189189.000000</td>\n",
       "      <td id=\"T_7c74f_row1_col4\" class=\"data row1 col4\" >-0.029606</td>\n",
       "      <td id=\"T_7c74f_row1_col5\" class=\"data row1 col5\" >-5772.000000</td>\n",
       "    </tr>\n",
       "    <tr>\n",
       "      <th id=\"T_7c74f_level0_row2\" class=\"row_heading level0 row2\" >2</th>\n",
       "      <td id=\"T_7c74f_row2_col0\" class=\"data row2 col0\" >ZILLP</td>\n",
       "      <td id=\"T_7c74f_row2_col1\" class=\"data row2 col1\" >2024-05-02</td>\n",
       "      <td id=\"T_7c74f_row2_col2\" class=\"data row2 col2\" >197748.000000</td>\n",
       "      <td id=\"T_7c74f_row2_col3\" class=\"data row2 col3\" >204660.000000</td>\n",
       "      <td id=\"T_7c74f_row2_col4\" class=\"data row2 col4\" >0.034954</td>\n",
       "      <td id=\"T_7c74f_row2_col5\" class=\"data row2 col5\" >6912.000000</td>\n",
       "    </tr>\n",
       "    <tr>\n",
       "      <th id=\"T_7c74f_level0_row3\" class=\"row_heading level0 row3\" >3</th>\n",
       "      <td id=\"T_7c74f_row3_col0\" class=\"data row3 col0\" >NOMPP</td>\n",
       "      <td id=\"T_7c74f_row3_col1\" class=\"data row3 col1\" >2024-05-02</td>\n",
       "      <td id=\"T_7c74f_row3_col2\" class=\"data row3 col2\" >212706.000000</td>\n",
       "      <td id=\"T_7c74f_row3_col3\" class=\"data row3 col3\" >202652.460000</td>\n",
       "      <td id=\"T_7c74f_row3_col4\" class=\"data row3 col4\" >-0.047265</td>\n",
       "      <td id=\"T_7c74f_row3_col5\" class=\"data row3 col5\" >-10053.540000</td>\n",
       "    </tr>\n",
       "    <tr>\n",
       "      <th id=\"T_7c74f_level0_row4\" class=\"row_heading level0 row4\" >4</th>\n",
       "      <td id=\"T_7c74f_row4_col0\" class=\"data row4 col0\" >ZILLP</td>\n",
       "      <td id=\"T_7c74f_row4_col1\" class=\"data row4 col1\" >2024-05-02</td>\n",
       "      <td id=\"T_7c74f_row4_col2\" class=\"data row4 col2\" >79590.000000</td>\n",
       "      <td id=\"T_7c74f_row4_col3\" class=\"data row4 col3\" >79275.000000</td>\n",
       "      <td id=\"T_7c74f_row4_col4\" class=\"data row4 col4\" >-0.003958</td>\n",
       "      <td id=\"T_7c74f_row4_col5\" class=\"data row4 col5\" >-315.000000</td>\n",
       "    </tr>\n",
       "  </tbody>\n",
       "</table>\n"
      ],
      "text/plain": [
       "<pandas.io.formats.style.Styler at 0x7cb410f76740>"
      ]
     },
     "metadata": {},
     "output_type": "display_data"
    },
    {
     "name": "stdout",
     "output_type": "stream",
     "text": [
      "\n"
     ]
    },
    {
     "data": {
      "text/html": [
       "<style type=\"text/css\">\n",
       "</style>\n",
       "<table id=\"T_3d3c8\" class=\"dataframe\">\n",
       "  <caption><b>2024-05-03 -0.34%</b></caption>\n",
       "  <thead>\n",
       "    <tr>\n",
       "      <th class=\"blank level0\" >&nbsp;</th>\n",
       "      <th id=\"T_3d3c8_level0_col0\" class=\"col_heading level0 col0\" >ticker</th>\n",
       "      <th id=\"T_3d3c8_level0_col1\" class=\"col_heading level0 col1\" >day</th>\n",
       "      <th id=\"T_3d3c8_level0_col2\" class=\"col_heading level0 col2\" >moneySpent</th>\n",
       "      <th id=\"T_3d3c8_level0_col3\" class=\"col_heading level0 col3\" >moneyRecieved</th>\n",
       "      <th id=\"T_3d3c8_level0_col4\" class=\"col_heading level0 col4\" >outcome</th>\n",
       "      <th id=\"T_3d3c8_level0_col5\" class=\"col_heading level0 col5\" >moneyChange</th>\n",
       "    </tr>\n",
       "  </thead>\n",
       "  <tbody>\n",
       "    <tr>\n",
       "      <th id=\"T_3d3c8_level0_row0\" class=\"row_heading level0 row0\" >5</th>\n",
       "      <td id=\"T_3d3c8_row0_col0\" class=\"data row0 col0\" >GTRK</td>\n",
       "      <td id=\"T_3d3c8_row0_col1\" class=\"data row0 col1\" >2024-05-03</td>\n",
       "      <td id=\"T_3d3c8_row0_col2\" class=\"data row0 col2\" >156736.000000</td>\n",
       "      <td id=\"T_3d3c8_row0_col3\" class=\"data row0 col3\" >159774.000000</td>\n",
       "      <td id=\"T_3d3c8_row0_col4\" class=\"data row0 col4\" >0.019383</td>\n",
       "      <td id=\"T_3d3c8_row0_col5\" class=\"data row0 col5\" >3038.000000</td>\n",
       "    </tr>\n",
       "    <tr>\n",
       "      <th id=\"T_3d3c8_level0_row1\" class=\"row_heading level0 row1\" >6</th>\n",
       "      <td id=\"T_3d3c8_row1_col0\" class=\"data row1 col0\" >ZILLP</td>\n",
       "      <td id=\"T_3d3c8_row1_col1\" class=\"data row1 col1\" >2024-05-03</td>\n",
       "      <td id=\"T_3d3c8_row1_col2\" class=\"data row1 col2\" >161119.710000</td>\n",
       "      <td id=\"T_3d3c8_row1_col3\" class=\"data row1 col3\" >151145.000000</td>\n",
       "      <td id=\"T_3d3c8_row1_col4\" class=\"data row1 col4\" >-0.061909</td>\n",
       "      <td id=\"T_3d3c8_row1_col5\" class=\"data row1 col5\" >-9974.710000</td>\n",
       "    </tr>\n",
       "    <tr>\n",
       "      <th id=\"T_3d3c8_level0_row2\" class=\"row_heading level0 row2\" >7</th>\n",
       "      <td id=\"T_3d3c8_row2_col0\" class=\"data row2 col0\" >LSRG</td>\n",
       "      <td id=\"T_3d3c8_row2_col1\" class=\"data row2 col1\" >2024-05-03</td>\n",
       "      <td id=\"T_3d3c8_row2_col2\" class=\"data row2 col2\" >161515.200000</td>\n",
       "      <td id=\"T_3d3c8_row2_col3\" class=\"data row2 col3\" >158390.400000</td>\n",
       "      <td id=\"T_3d3c8_row2_col4\" class=\"data row2 col4\" >-0.019347</td>\n",
       "      <td id=\"T_3d3c8_row2_col5\" class=\"data row2 col5\" >-3124.800000</td>\n",
       "    </tr>\n",
       "    <tr>\n",
       "      <th id=\"T_3d3c8_level0_row3\" class=\"row_heading level0 row3\" >8</th>\n",
       "      <td id=\"T_3d3c8_row3_col0\" class=\"data row3 col0\" >TGKB</td>\n",
       "      <td id=\"T_3d3c8_row3_col1\" class=\"data row3 col1\" >2024-05-03</td>\n",
       "      <td id=\"T_3d3c8_row3_col2\" class=\"data row3 col2\" >161220.000000</td>\n",
       "      <td id=\"T_3d3c8_row3_col3\" class=\"data row3 col3\" >160740.000000</td>\n",
       "      <td id=\"T_3d3c8_row3_col4\" class=\"data row3 col4\" >-0.002977</td>\n",
       "      <td id=\"T_3d3c8_row3_col5\" class=\"data row3 col5\" >-480.000000</td>\n",
       "    </tr>\n",
       "    <tr>\n",
       "      <th id=\"T_3d3c8_level0_row4\" class=\"row_heading level0 row4\" >9</th>\n",
       "      <td id=\"T_3d3c8_row4_col0\" class=\"data row4 col0\" >GRNT</td>\n",
       "      <td id=\"T_3d3c8_row4_col1\" class=\"data row4 col1\" >2024-05-03</td>\n",
       "      <td id=\"T_3d3c8_row4_col2\" class=\"data row4 col2\" >161752.266000</td>\n",
       "      <td id=\"T_3d3c8_row4_col3\" class=\"data row4 col3\" >159816.768800</td>\n",
       "      <td id=\"T_3d3c8_row4_col4\" class=\"data row4 col4\" >-0.011966</td>\n",
       "      <td id=\"T_3d3c8_row4_col5\" class=\"data row4 col5\" >-1935.497200</td>\n",
       "    </tr>\n",
       "    <tr>\n",
       "      <th id=\"T_3d3c8_level0_row5\" class=\"row_heading level0 row5\" >10</th>\n",
       "      <td id=\"T_3d3c8_row5_col0\" class=\"data row5 col0\" >IRKT</td>\n",
       "      <td id=\"T_3d3c8_row5_col1\" class=\"data row5 col1\" >2024-05-03</td>\n",
       "      <td id=\"T_3d3c8_row5_col2\" class=\"data row5 col2\" >161000.000000</td>\n",
       "      <td id=\"T_3d3c8_row5_col3\" class=\"data row5 col3\" >159735.000000</td>\n",
       "      <td id=\"T_3d3c8_row5_col4\" class=\"data row5 col4\" >-0.007857</td>\n",
       "      <td id=\"T_3d3c8_row5_col5\" class=\"data row5 col5\" >-1265.000000</td>\n",
       "    </tr>\n",
       "  </tbody>\n",
       "</table>\n"
      ],
      "text/plain": [
       "<pandas.io.formats.style.Styler at 0x7cb410f752d0>"
      ]
     },
     "metadata": {},
     "output_type": "display_data"
    },
    {
     "name": "stdout",
     "output_type": "stream",
     "text": [
      "\n"
     ]
    },
    {
     "data": {
      "text/html": [
       "<style type=\"text/css\">\n",
       "</style>\n",
       "<table id=\"T_0e9c1\" class=\"dataframe\">\n",
       "  <caption><b>2024-05-06 -0.19%</b></caption>\n",
       "  <thead>\n",
       "    <tr>\n",
       "      <th class=\"blank level0\" >&nbsp;</th>\n",
       "      <th id=\"T_0e9c1_level0_col0\" class=\"col_heading level0 col0\" >ticker</th>\n",
       "      <th id=\"T_0e9c1_level0_col1\" class=\"col_heading level0 col1\" >day</th>\n",
       "      <th id=\"T_0e9c1_level0_col2\" class=\"col_heading level0 col2\" >moneySpent</th>\n",
       "      <th id=\"T_0e9c1_level0_col3\" class=\"col_heading level0 col3\" >moneyRecieved</th>\n",
       "      <th id=\"T_0e9c1_level0_col4\" class=\"col_heading level0 col4\" >outcome</th>\n",
       "      <th id=\"T_0e9c1_level0_col5\" class=\"col_heading level0 col5\" >moneyChange</th>\n",
       "    </tr>\n",
       "  </thead>\n",
       "  <tbody>\n",
       "    <tr>\n",
       "      <th id=\"T_0e9c1_level0_row0\" class=\"row_heading level0 row0\" >11</th>\n",
       "      <td id=\"T_0e9c1_row0_col0\" class=\"data row0 col0\" >GTRK</td>\n",
       "      <td id=\"T_0e9c1_row0_col1\" class=\"data row0 col1\" >2024-05-06</td>\n",
       "      <td id=\"T_0e9c1_row0_col2\" class=\"data row0 col2\" >151320.000000</td>\n",
       "      <td id=\"T_0e9c1_row0_col3\" class=\"data row0 col3\" >147150.000000</td>\n",
       "      <td id=\"T_0e9c1_row0_col4\" class=\"data row0 col4\" >-0.027557</td>\n",
       "      <td id=\"T_0e9c1_row0_col5\" class=\"data row0 col5\" >-4170.000000</td>\n",
       "    </tr>\n",
       "    <tr>\n",
       "      <th id=\"T_0e9c1_level0_row1\" class=\"row_heading level0 row1\" >12</th>\n",
       "      <td id=\"T_0e9c1_row1_col0\" class=\"data row1 col0\" >ZILLP</td>\n",
       "      <td id=\"T_0e9c1_row1_col1\" class=\"data row1 col1\" >2024-05-06</td>\n",
       "      <td id=\"T_0e9c1_row1_col2\" class=\"data row1 col2\" >153585.000000</td>\n",
       "      <td id=\"T_0e9c1_row1_col3\" class=\"data row1 col3\" >149490.450000</td>\n",
       "      <td id=\"T_0e9c1_row1_col4\" class=\"data row1 col4\" >-0.026660</td>\n",
       "      <td id=\"T_0e9c1_row1_col5\" class=\"data row1 col5\" >-4094.550000</td>\n",
       "    </tr>\n",
       "    <tr>\n",
       "      <th id=\"T_0e9c1_level0_row2\" class=\"row_heading level0 row2\" >13</th>\n",
       "      <td id=\"T_0e9c1_row2_col0\" class=\"data row2 col0\" >TGKBP</td>\n",
       "      <td id=\"T_0e9c1_row2_col1\" class=\"data row2 col1\" >2024-05-06</td>\n",
       "      <td id=\"T_0e9c1_row2_col2\" class=\"data row2 col2\" >158530.000000</td>\n",
       "      <td id=\"T_0e9c1_row2_col3\" class=\"data row2 col3\" >159443.000000</td>\n",
       "      <td id=\"T_0e9c1_row2_col4\" class=\"data row2 col4\" >0.005759</td>\n",
       "      <td id=\"T_0e9c1_row2_col5\" class=\"data row2 col5\" >913.000000</td>\n",
       "    </tr>\n",
       "  </tbody>\n",
       "</table>\n"
      ],
      "text/plain": [
       "<pandas.io.formats.style.Styler at 0x7cb410f75510>"
      ]
     },
     "metadata": {},
     "output_type": "display_data"
    },
    {
     "name": "stdout",
     "output_type": "stream",
     "text": [
      "\n"
     ]
    },
    {
     "data": {
      "text/html": [
       "<style type=\"text/css\">\n",
       "</style>\n",
       "<table id=\"T_05173\" class=\"dataframe\">\n",
       "  <caption><b>2024-05-07 +0.01%</b></caption>\n",
       "  <thead>\n",
       "    <tr>\n",
       "      <th class=\"blank level0\" >&nbsp;</th>\n",
       "      <th id=\"T_05173_level0_col0\" class=\"col_heading level0 col0\" >ticker</th>\n",
       "      <th id=\"T_05173_level0_col1\" class=\"col_heading level0 col1\" >day</th>\n",
       "      <th id=\"T_05173_level0_col2\" class=\"col_heading level0 col2\" >moneySpent</th>\n",
       "      <th id=\"T_05173_level0_col3\" class=\"col_heading level0 col3\" >moneyRecieved</th>\n",
       "      <th id=\"T_05173_level0_col4\" class=\"col_heading level0 col4\" >outcome</th>\n",
       "      <th id=\"T_05173_level0_col5\" class=\"col_heading level0 col5\" >moneyChange</th>\n",
       "    </tr>\n",
       "  </thead>\n",
       "  <tbody>\n",
       "    <tr>\n",
       "      <th id=\"T_05173_level0_row0\" class=\"row_heading level0 row0\" >14</th>\n",
       "      <td id=\"T_05173_row0_col0\" class=\"data row0 col0\" >GTRK</td>\n",
       "      <td id=\"T_05173_row0_col1\" class=\"data row0 col1\" >2024-05-07</td>\n",
       "      <td id=\"T_05173_row0_col2\" class=\"data row0 col2\" >643472.000000</td>\n",
       "      <td id=\"T_05173_row0_col3\" class=\"data row0 col3\" >644651.000000</td>\n",
       "      <td id=\"T_05173_row0_col4\" class=\"data row0 col4\" >0.001832</td>\n",
       "      <td id=\"T_05173_row0_col5\" class=\"data row0 col5\" >1179.000000</td>\n",
       "    </tr>\n",
       "    <tr>\n",
       "      <th id=\"T_05173_level0_row1\" class=\"row_heading level0 row1\" >15</th>\n",
       "      <td id=\"T_05173_row1_col0\" class=\"data row1 col0\" >GRNT</td>\n",
       "      <td id=\"T_05173_row1_col1\" class=\"data row1 col1\" >2024-05-07</td>\n",
       "      <td id=\"T_05173_row1_col2\" class=\"data row1 col2\" >632818.764000</td>\n",
       "      <td id=\"T_05173_row1_col3\" class=\"data row1 col3\" >632232.820700</td>\n",
       "      <td id=\"T_05173_row1_col4\" class=\"data row1 col4\" >-0.000926</td>\n",
       "      <td id=\"T_05173_row1_col5\" class=\"data row1 col5\" >-585.943300</td>\n",
       "    </tr>\n",
       "  </tbody>\n",
       "</table>\n"
      ],
      "text/plain": [
       "<pandas.io.formats.style.Styler at 0x7cb410f76740>"
      ]
     },
     "metadata": {},
     "output_type": "display_data"
    },
    {
     "name": "stdout",
     "output_type": "stream",
     "text": [
      "\n"
     ]
    },
    {
     "data": {
      "text/html": [
       "<style type=\"text/css\">\n",
       "</style>\n",
       "<table id=\"T_72831\" class=\"dataframe\">\n",
       "  <caption><b>2024-05-08 -2.24%</b></caption>\n",
       "  <thead>\n",
       "    <tr>\n",
       "      <th class=\"blank level0\" >&nbsp;</th>\n",
       "      <th id=\"T_72831_level0_col0\" class=\"col_heading level0 col0\" >ticker</th>\n",
       "      <th id=\"T_72831_level0_col1\" class=\"col_heading level0 col1\" >day</th>\n",
       "      <th id=\"T_72831_level0_col2\" class=\"col_heading level0 col2\" >moneySpent</th>\n",
       "      <th id=\"T_72831_level0_col3\" class=\"col_heading level0 col3\" >moneyRecieved</th>\n",
       "      <th id=\"T_72831_level0_col4\" class=\"col_heading level0 col4\" >outcome</th>\n",
       "      <th id=\"T_72831_level0_col5\" class=\"col_heading level0 col5\" >moneyChange</th>\n",
       "    </tr>\n",
       "  </thead>\n",
       "  <tbody>\n",
       "    <tr>\n",
       "      <th id=\"T_72831_level0_row0\" class=\"row_heading level0 row0\" >16</th>\n",
       "      <td id=\"T_72831_row0_col0\" class=\"data row0 col0\" >QIWI</td>\n",
       "      <td id=\"T_72831_row0_col1\" class=\"data row0 col1\" >2024-05-08</td>\n",
       "      <td id=\"T_72831_row0_col2\" class=\"data row0 col2\" >643052.800000</td>\n",
       "      <td id=\"T_72831_row0_col3\" class=\"data row0 col3\" >606850.400000</td>\n",
       "      <td id=\"T_72831_row0_col4\" class=\"data row0 col4\" >-0.056298</td>\n",
       "      <td id=\"T_72831_row0_col5\" class=\"data row0 col5\" >-36202.400000</td>\n",
       "    </tr>\n",
       "    <tr>\n",
       "      <th id=\"T_72831_level0_row1\" class=\"row_heading level0 row1\" >17</th>\n",
       "      <td id=\"T_72831_row1_col0\" class=\"data row1 col0\" >GRNT</td>\n",
       "      <td id=\"T_72831_row1_col1\" class=\"data row1 col1\" >2024-05-08</td>\n",
       "      <td id=\"T_72831_row1_col2\" class=\"data row1 col2\" >647255.290000</td>\n",
       "      <td id=\"T_72831_row1_col3\" class=\"data row1 col3\" >631368.114700</td>\n",
       "      <td id=\"T_72831_row1_col4\" class=\"data row1 col4\" >-0.024545</td>\n",
       "      <td id=\"T_72831_row1_col5\" class=\"data row1 col5\" >-15887.175300</td>\n",
       "    </tr>\n",
       "    <tr>\n",
       "      <th id=\"T_72831_level0_row2\" class=\"row_heading level0 row2\" >18</th>\n",
       "      <td id=\"T_72831_row2_col0\" class=\"data row2 col0\" >ZILLP</td>\n",
       "      <td id=\"T_72831_row2_col1\" class=\"data row2 col1\" >2024-05-08</td>\n",
       "      <td id=\"T_72831_row2_col2\" class=\"data row2 col2\" >644614.210000</td>\n",
       "      <td id=\"T_72831_row2_col3\" class=\"data row2 col3\" >607950.000000</td>\n",
       "      <td id=\"T_72831_row2_col4\" class=\"data row2 col4\" >-0.056878</td>\n",
       "      <td id=\"T_72831_row2_col5\" class=\"data row2 col5\" >-36664.210000</td>\n",
       "    </tr>\n",
       "  </tbody>\n",
       "</table>\n"
      ],
      "text/plain": [
       "<pandas.io.formats.style.Styler at 0x7cb410f76770>"
      ]
     },
     "metadata": {},
     "output_type": "display_data"
    },
    {
     "name": "stdout",
     "output_type": "stream",
     "text": [
      "\n"
     ]
    },
    {
     "data": {
      "text/html": [
       "<style type=\"text/css\">\n",
       "</style>\n",
       "<table id=\"T_c1249\" class=\"dataframe\">\n",
       "  <caption><b>2024-05-10 -0.45%</b></caption>\n",
       "  <thead>\n",
       "    <tr>\n",
       "      <th class=\"blank level0\" >&nbsp;</th>\n",
       "      <th id=\"T_c1249_level0_col0\" class=\"col_heading level0 col0\" >ticker</th>\n",
       "      <th id=\"T_c1249_level0_col1\" class=\"col_heading level0 col1\" >day</th>\n",
       "      <th id=\"T_c1249_level0_col2\" class=\"col_heading level0 col2\" >moneySpent</th>\n",
       "      <th id=\"T_c1249_level0_col3\" class=\"col_heading level0 col3\" >moneyRecieved</th>\n",
       "      <th id=\"T_c1249_level0_col4\" class=\"col_heading level0 col4\" >outcome</th>\n",
       "      <th id=\"T_c1249_level0_col5\" class=\"col_heading level0 col5\" >moneyChange</th>\n",
       "    </tr>\n",
       "  </thead>\n",
       "  <tbody>\n",
       "    <tr>\n",
       "      <th id=\"T_c1249_level0_row0\" class=\"row_heading level0 row0\" >19</th>\n",
       "      <td id=\"T_c1249_row0_col0\" class=\"data row0 col0\" >QIWI</td>\n",
       "      <td id=\"T_c1249_row0_col1\" class=\"data row0 col1\" >2024-05-10</td>\n",
       "      <td id=\"T_c1249_row0_col2\" class=\"data row0 col2\" >615064.200000</td>\n",
       "      <td id=\"T_c1249_row0_col3\" class=\"data row0 col3\" >601437.400000</td>\n",
       "      <td id=\"T_c1249_row0_col4\" class=\"data row0 col4\" >-0.022155</td>\n",
       "      <td id=\"T_c1249_row0_col5\" class=\"data row0 col5\" >-13626.800000</td>\n",
       "    </tr>\n",
       "    <tr>\n",
       "      <th id=\"T_c1249_level0_row1\" class=\"row_heading level0 row1\" >20</th>\n",
       "      <td id=\"T_c1249_row1_col0\" class=\"data row1 col0\" >VRSB</td>\n",
       "      <td id=\"T_c1249_row1_col1\" class=\"data row1 col1\" >2024-05-10</td>\n",
       "      <td id=\"T_c1249_row1_col2\" class=\"data row1 col2\" >614730.000000</td>\n",
       "      <td id=\"T_c1249_row1_col3\" class=\"data row1 col3\" >611010.000000</td>\n",
       "      <td id=\"T_c1249_row1_col4\" class=\"data row1 col4\" >-0.006051</td>\n",
       "      <td id=\"T_c1249_row1_col5\" class=\"data row1 col5\" >-3720.000000</td>\n",
       "    </tr>\n",
       "  </tbody>\n",
       "</table>\n"
      ],
      "text/plain": [
       "<pandas.io.formats.style.Styler at 0x7cb410b9c700>"
      ]
     },
     "metadata": {},
     "output_type": "display_data"
    },
    {
     "name": "stdout",
     "output_type": "stream",
     "text": [
      "\n"
     ]
    },
    {
     "data": {
      "text/html": [
       "<style type=\"text/css\">\n",
       "</style>\n",
       "<table id=\"T_72b31\" class=\"dataframe\">\n",
       "  <caption><b>2024-05-13 -730753.80%</b></caption>\n",
       "  <thead>\n",
       "    <tr>\n",
       "      <th class=\"blank level0\" >&nbsp;</th>\n",
       "      <th id=\"T_72b31_level0_col0\" class=\"col_heading level0 col0\" >ticker</th>\n",
       "      <th id=\"T_72b31_level0_col1\" class=\"col_heading level0 col1\" >day</th>\n",
       "      <th id=\"T_72b31_level0_col2\" class=\"col_heading level0 col2\" >moneySpent</th>\n",
       "      <th id=\"T_72b31_level0_col3\" class=\"col_heading level0 col3\" >moneyRecieved</th>\n",
       "      <th id=\"T_72b31_level0_col4\" class=\"col_heading level0 col4\" >outcome</th>\n",
       "      <th id=\"T_72b31_level0_col5\" class=\"col_heading level0 col5\" >moneyChange</th>\n",
       "    </tr>\n",
       "  </thead>\n",
       "  <tbody>\n",
       "    <tr>\n",
       "      <th id=\"T_72b31_level0_row0\" class=\"row_heading level0 row0\" >21</th>\n",
       "      <td id=\"T_72b31_row0_col0\" class=\"data row0 col0\" >QIWI</td>\n",
       "      <td id=\"T_72b31_row0_col1\" class=\"data row0 col1\" >2024-05-13</td>\n",
       "      <td id=\"T_72b31_row0_col2\" class=\"data row0 col2\" >1262402.400000</td>\n",
       "      <td id=\"T_72b31_row0_col3\" class=\"data row0 col3\" >1314034.400000</td>\n",
       "      <td id=\"T_72b31_row0_col4\" class=\"data row0 col4\" >0.040900</td>\n",
       "      <td id=\"T_72b31_row0_col5\" class=\"data row0 col5\" >51632.000000</td>\n",
       "    </tr>\n",
       "    <tr>\n",
       "      <th id=\"T_72b31_level0_row1\" class=\"row_heading level0 row1\" >22</th>\n",
       "      <td id=\"T_72b31_row1_col0\" class=\"data row1 col0\" >PMSBP</td>\n",
       "      <td id=\"T_72b31_row1_col1\" class=\"data row1 col1\" >2024-05-13</td>\n",
       "      <td id=\"T_72b31_row1_col2\" class=\"data row1 col2\" >1262244.000000</td>\n",
       "      <td id=\"T_72b31_row1_col3\" class=\"data row1 col3\" >1206958.000000</td>\n",
       "      <td id=\"T_72b31_row1_col4\" class=\"data row1 col4\" >-0.043800</td>\n",
       "      <td id=\"T_72b31_row1_col5\" class=\"data row1 col5\" >-55286.000000</td>\n",
       "    </tr>\n",
       "    <tr>\n",
       "      <th id=\"T_72b31_level0_row2\" class=\"row_heading level0 row2\" >23</th>\n",
       "      <td id=\"T_72b31_row2_col0\" class=\"data row2 col0\" >ORUP</td>\n",
       "      <td id=\"T_72b31_row2_col1\" class=\"data row2 col1\" >2024-05-13</td>\n",
       "      <td id=\"T_72b31_row2_col2\" class=\"data row2 col2\" >1267255.752000</td>\n",
       "      <td id=\"T_72b31_row2_col3\" class=\"data row2 col3\" >1263602.214000</td>\n",
       "      <td id=\"T_72b31_row2_col4\" class=\"data row2 col4\" >-0.002883</td>\n",
       "      <td id=\"T_72b31_row2_col5\" class=\"data row2 col5\" >-3653.538000</td>\n",
       "    </tr>\n",
       "  </tbody>\n",
       "</table>\n"
      ],
      "text/plain": [
       "<pandas.io.formats.style.Styler at 0x7cb410f75450>"
      ]
     },
     "metadata": {},
     "output_type": "display_data"
    },
    {
     "name": "stdout",
     "output_type": "stream",
     "text": [
      "\n"
     ]
    },
    {
     "data": {
      "image/png": "[encoded data removed]",
      "text/plain": [
       "<Figure size 640x480 with 1 Axes>"
      ]
     },
     "metadata": {},
     "output_type": "display_data"
    }
   ],
   "source": [
    "displayStatsForHistory(histories[1], imoexDayResults)"
   ]
  },
  {
   "cell_type": "code",
   "execution_count": null,
   "id": "0IuM_XLi76kg",
   "metadata": {
    "id": "0IuM_XLi76kg"
   },
   "outputs": [],
   "source": []
  }
 ],
 "metadata": {
  "colab": {
   "provenance": []
  },
  "kernelspec": {
   "display_name": "Python 3 (ipykernel)",
   "language": "python",
   "name": "python3"
  },
  "language_info": {
   "codemirror_mode": {
    "name": "ipython",
    "version": 3
   },
   "file_extension": ".py",
   "mimetype": "text/x-python",
   "name": "python",
   "nbconvert_exporter": "python",
   "pygments_lexer": "ipython3",
   "version": "3.10.12"
  }
 },
 "nbformat": 4,
 "nbformat_minor": 5
}
