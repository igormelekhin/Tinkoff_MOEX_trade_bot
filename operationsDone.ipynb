{
 "cells": [
  {
   "cell_type": "code",
   "execution_count": 85,
   "id": "8yFA2PwkeWBY",
   "metadata": {
    "executionInfo": {
     "elapsed": 5,
     "status": "ok",
     "timestamp": 1715084355992,
     "user": {
      "displayName": "1 2",
      "userId": "15574224089696271775"
     },
     "user_tz": -180
    },
    "id": "8yFA2PwkeWBY"
   },
   "outputs": [],
   "source": [
    "import pandas as pd\n",
    "import datetime, pytz\n",
    "import IPython\n",
    "import matplotlib.pyplot as plt\n",
    "import tinkoff.invest\n",
    "\n",
    "import tradeBot"
   ]
  },
  {
   "cell_type": "code",
   "execution_count": 8,
   "id": "3_QnO7Pied82",
   "metadata": {
    "colab": {
     "base_uri": "https://localhost:8080/"
    },
    "executionInfo": {
     "elapsed": 17206,
     "status": "ok",
     "timestamp": 1715077728231,
     "user": {
      "displayName": "1 2",
      "userId": "15574224089696271775"
     },
     "user_tz": -180
    },
    "id": "3_QnO7Pied82",
    "outputId": "ca069c31-f272-4e61-a558-d432cc66b5a9"
   },
   "outputs": [
    {
     "name": "stdout",
     "output_type": "stream",
     "text": [
      "Loading trained models..\n",
      "Done loading trained models\n"
     ]
    }
   ],
   "source": [
    "bot = tradeBot.TradeBot(False)"
   ]
  },
  {
   "cell_type": "code",
   "execution_count": 10,
   "id": "IoqKVwd0mGiS",
   "metadata": {
    "executionInfo": {
     "elapsed": 1690,
     "status": "ok",
     "timestamp": 1715077758939,
     "user": {
      "displayName": "1 2",
      "userId": "15574224089696271775"
     },
     "user_tz": -180
    },
    "id": "IoqKVwd0mGiS"
   },
   "outputs": [],
   "source": [
    "histories = bot.getOperationHistory()"
   ]
  },
  {
   "cell_type": "code",
   "execution_count": 124,
   "id": "8aL7GrlyJ4T3",
   "metadata": {
    "executionInfo": {
     "elapsed": 1022,
     "status": "ok",
     "timestamp": 1715087219184,
     "user": {
      "displayName": "1 2",
      "userId": "15574224089696271775"
     },
     "user_tz": -180
    },
    "id": "8aL7GrlyJ4T3"
   },
   "outputs": [],
   "source": [
    "IMOEX = \"BBG00KDWPPW2\"\n",
    "IMOEX = \"BBG333333333\"\n",
    "imoexDayResults = {}\n",
    "with tinkoff.invest.Client(bot.token, target=tinkoff.invest.constants.INVEST_GRPC_API_SANDBOX) as client:\n",
    "  candles = client.get_all_candles(instrument_id = IMOEX,\n",
    "      from_ = datetime.datetime.utcnow().replace(tzinfo=pytz.timezone('UTC')) - datetime.timedelta(days=120),\n",
    "      interval = tinkoff.invest.CandleInterval.CANDLE_INTERVAL_DAY,\n",
    "      candle_source_type = tinkoff.invest.schemas.CandleSource.CANDLE_SOURCE_UNSPECIFIED)\n",
    "  for candle in candles:\n",
    "    o = candle.open.units + candle.open.nano * 10**(-9)\n",
    "    c = candle.close.units + candle.close.nano * 10**(-9)\n",
    "    imoexDayResults[candle.time.date()] = c / o"
   ]
  },
  {
   "cell_type": "code",
   "execution_count": 125,
   "id": "MXtBtTSAmGlX",
   "metadata": {
    "executionInfo": {
     "elapsed": 316,
     "status": "ok",
     "timestamp": 1715087222667,
     "user": {
      "displayName": "1 2",
      "userId": "15574224089696271775"
     },
     "user_tz": -180
    },
    "id": "MXtBtTSAmGlX"
   },
   "outputs": [],
   "source": [
    "def displayStatsForHistory(history, imoexDayResults):\n",
    "  columns = [\"ticker\", \"day\", \"moneySpent\", \"moneyRecieved\", \"outcome\"]\n",
    "  colData = {}\n",
    "  days = {}\n",
    "  lastDay = None\n",
    "  accountNum = 0\n",
    "  bank = history[\"totalMoney\"]\n",
    "  bankHistory = [bank]\n",
    "  refBank = bank\n",
    "  refHistory = [bank]\n",
    "\n",
    "  for i in range(len(history[\"actions\"])):\n",
    "    day = history[\"actions\"][i][\"day\"]\n",
    "    if not day in days:\n",
    "      days[day] = 0\n",
    "      if lastDay is not None:\n",
    "        change = days[lastDay]\n",
    "        days[lastDay] = change / bank\n",
    "        bank += change\n",
    "        bankHistory.append(bank)\n",
    "        refBank *= imoexDayResults[day]\n",
    "        refHistory.append(refBank)\n",
    "      lastDay = day\n",
    "    if \"moneyRecieved\" in history[\"actions\"][i]:\n",
    "      days[day] += history[\"actions\"][i][\"moneyRecieved\"] - history[\"actions\"][i][\"moneySpent\"]\n",
    "    for col in columns:\n",
    "      colData.setdefault(col, [])\n",
    "      if col in history[\"actions\"][i]:\n",
    "        colData[col].append(history[\"actions\"][i][col])\n",
    "      else:\n",
    "        colData[col].append(0)\n",
    "\n",
    "  df = pd.DataFrame(colData, columns = columns)\n",
    "  df[\"moneyChange\"] = df[\"moneyRecieved\"] - df[\"moneySpent\"]\n",
    "  for day in days:\n",
    "    dfDay = df[df[\"day\"] == day]\n",
    "    IPython.display.display(dfDay.style.set_caption(\"<b>\" + str(day) + \" {:+.2f}%\".format(100*days[day]) + \"</b>\"))\n",
    "    print()\n",
    "  plt.figure()\n",
    "  plt.grid()\n",
    "  plt.plot(list(days.keys()), bankHistory, label=\"Trading\")\n",
    "  plt.plot(list(days.keys()), refHistory, label=\"IMOEX\")\n",
    "  plt.legend()\n",
    "  plt.xticks(rotation=90);"
   ]
  },
  {
   "cell_type": "markdown",
   "id": "5295d390-06a5-41e2-92fc-f8870b5d1c8d",
   "metadata": {},
   "source": [
    "## Аккаунт 1"
   ]
  },
  {
   "cell_type": "code",
   "execution_count": 126,
   "id": "qmDDneQN7x4v",
   "metadata": {
    "colab": {
     "base_uri": "https://localhost:8080/",
     "height": 1000
    },
    "executionInfo": {
     "elapsed": 543,
     "status": "ok",
     "timestamp": 1715087226494,
     "user": {
      "displayName": "1 2",
      "userId": "15574224089696271775"
     },
     "user_tz": -180
    },
    "id": "qmDDneQN7x4v",
    "outputId": "d463cf2a-aa0e-4e52-c3a0-a1861afd378c"
   },
   "outputs": [
    {
     "data": {
      "text/html": [
       "<style type=\"text/css\">\n",
       "</style>\n",
       "<table id=\"T_c3b15\" class=\"dataframe\">\n",
       "  <caption><b>2024-05-02 -1.13%</b></caption>\n",
       "  <thead>\n",
       "    <tr>\n",
       "      <th class=\"blank level0\" >&nbsp;</th>\n",
       "      <th id=\"T_c3b15_level0_col0\" class=\"col_heading level0 col0\" >ticker</th>\n",
       "      <th id=\"T_c3b15_level0_col1\" class=\"col_heading level0 col1\" >day</th>\n",
       "      <th id=\"T_c3b15_level0_col2\" class=\"col_heading level0 col2\" >moneySpent</th>\n",
       "      <th id=\"T_c3b15_level0_col3\" class=\"col_heading level0 col3\" >moneyRecieved</th>\n",
       "      <th id=\"T_c3b15_level0_col4\" class=\"col_heading level0 col4\" >outcome</th>\n",
       "      <th id=\"T_c3b15_level0_col5\" class=\"col_heading level0 col5\" >moneyChange</th>\n",
       "    </tr>\n",
       "  </thead>\n",
       "  <tbody>\n",
       "    <tr>\n",
       "      <th id=\"T_c3b15_level0_row0\" class=\"row_heading level0 row0\" >0</th>\n",
       "      <td id=\"T_c3b15_row0_col0\" class=\"data row0 col0\" >LSRG</td>\n",
       "      <td id=\"T_c3b15_row0_col1\" class=\"data row0 col1\" >2024-05-02</td>\n",
       "      <td id=\"T_c3b15_row0_col2\" class=\"data row0 col2\" >195156.000000</td>\n",
       "      <td id=\"T_c3b15_row0_col3\" class=\"data row0 col3\" >189150.000000</td>\n",
       "      <td id=\"T_c3b15_row0_col4\" class=\"data row0 col4\" >-0.030775</td>\n",
       "      <td id=\"T_c3b15_row0_col5\" class=\"data row0 col5\" >-6006.000000</td>\n",
       "    </tr>\n",
       "    <tr>\n",
       "      <th id=\"T_c3b15_level0_row1\" class=\"row_heading level0 row1\" >1</th>\n",
       "      <td id=\"T_c3b15_row1_col0\" class=\"data row1 col0\" >ZILLP</td>\n",
       "      <td id=\"T_c3b15_row1_col1\" class=\"data row1 col1\" >2024-05-02</td>\n",
       "      <td id=\"T_c3b15_row1_col2\" class=\"data row1 col2\" >197748.000000</td>\n",
       "      <td id=\"T_c3b15_row1_col3\" class=\"data row1 col3\" >187974.540000</td>\n",
       "      <td id=\"T_c3b15_row1_col4\" class=\"data row1 col4\" >-0.049424</td>\n",
       "      <td id=\"T_c3b15_row1_col5\" class=\"data row1 col5\" >-9773.460000</td>\n",
       "    </tr>\n",
       "    <tr>\n",
       "      <th id=\"T_c3b15_level0_row2\" class=\"row_heading level0 row2\" >2</th>\n",
       "      <td id=\"T_c3b15_row2_col0\" class=\"data row2 col0\" >NOMPP</td>\n",
       "      <td id=\"T_c3b15_row2_col1\" class=\"data row2 col1\" >2024-05-02</td>\n",
       "      <td id=\"T_c3b15_row2_col2\" class=\"data row2 col2\" >212706.000000</td>\n",
       "      <td id=\"T_c3b15_row2_col3\" class=\"data row2 col3\" >202652.460000</td>\n",
       "      <td id=\"T_c3b15_row2_col4\" class=\"data row2 col4\" >-0.047265</td>\n",
       "      <td id=\"T_c3b15_row2_col5\" class=\"data row2 col5\" >-10053.540000</td>\n",
       "    </tr>\n",
       "    <tr>\n",
       "      <th id=\"T_c3b15_level0_row3\" class=\"row_heading level0 row3\" >3</th>\n",
       "      <td id=\"T_c3b15_row3_col0\" class=\"data row3 col0\" >SFIN</td>\n",
       "      <td id=\"T_c3b15_row3_col1\" class=\"data row3 col1\" >2024-05-02</td>\n",
       "      <td id=\"T_c3b15_row3_col2\" class=\"data row3 col2\" >202844.400000</td>\n",
       "      <td id=\"T_c3b15_row3_col3\" class=\"data row3 col3\" >206375.000000</td>\n",
       "      <td id=\"T_c3b15_row3_col4\" class=\"data row3 col4\" >0.017405</td>\n",
       "      <td id=\"T_c3b15_row3_col5\" class=\"data row3 col5\" >3530.600000</td>\n",
       "    </tr>\n",
       "    <tr>\n",
       "      <th id=\"T_c3b15_level0_row4\" class=\"row_heading level0 row4\" >4</th>\n",
       "      <td id=\"T_c3b15_row4_col0\" class=\"data row4 col0\" >SFIN</td>\n",
       "      <td id=\"T_c3b15_row4_col1\" class=\"data row4 col1\" >2024-05-02</td>\n",
       "      <td id=\"T_c3b15_row4_col2\" class=\"data row4 col2\" >81850.000000</td>\n",
       "      <td id=\"T_c3b15_row4_col3\" class=\"data row4 col3\" >81520.000000</td>\n",
       "      <td id=\"T_c3b15_row4_col4\" class=\"data row4 col4\" >-0.004032</td>\n",
       "      <td id=\"T_c3b15_row4_col5\" class=\"data row4 col5\" >-330.000000</td>\n",
       "    </tr>\n",
       "    <tr>\n",
       "      <th id=\"T_c3b15_level0_row5\" class=\"row_heading level0 row5\" >5</th>\n",
       "      <td id=\"T_c3b15_row5_col0\" class=\"data row5 col0\" >SFIN</td>\n",
       "      <td id=\"T_c3b15_row5_col1\" class=\"data row5 col1\" >2024-05-02</td>\n",
       "      <td id=\"T_c3b15_row5_col2\" class=\"data row5 col2\" >81550.000000</td>\n",
       "      <td id=\"T_c3b15_row5_col3\" class=\"data row5 col3\" >81410.000000</td>\n",
       "      <td id=\"T_c3b15_row5_col4\" class=\"data row5 col4\" >-0.001717</td>\n",
       "      <td id=\"T_c3b15_row5_col5\" class=\"data row5 col5\" >-140.000000</td>\n",
       "    </tr>\n",
       "    <tr>\n",
       "      <th id=\"T_c3b15_level0_row6\" class=\"row_heading level0 row6\" >6</th>\n",
       "      <td id=\"T_c3b15_row6_col0\" class=\"data row6 col0\" >SFIN</td>\n",
       "      <td id=\"T_c3b15_row6_col1\" class=\"data row6 col1\" >2024-05-02</td>\n",
       "      <td id=\"T_c3b15_row6_col2\" class=\"data row6 col2\" >81080.000000</td>\n",
       "      <td id=\"T_c3b15_row6_col3\" class=\"data row6 col3\" >81210.000000</td>\n",
       "      <td id=\"T_c3b15_row6_col4\" class=\"data row6 col4\" >0.001603</td>\n",
       "      <td id=\"T_c3b15_row6_col5\" class=\"data row6 col5\" >130.000000</td>\n",
       "    </tr>\n",
       "  </tbody>\n",
       "</table>\n"
      ],
      "text/plain": [
       "<pandas.io.formats.style.Styler at 0x7e03ad7f2890>"
      ]
     },
     "metadata": {},
     "output_type": "display_data"
    },
    {
     "name": "stdout",
     "output_type": "stream",
     "text": [
      "\n"
     ]
    },
    {
     "data": {
      "text/html": [
       "<style type=\"text/css\">\n",
       "</style>\n",
       "<table id=\"T_e218d\" class=\"dataframe\">\n",
       "  <caption><b>2024-05-03 +0.17%</b></caption>\n",
       "  <thead>\n",
       "    <tr>\n",
       "      <th class=\"blank level0\" >&nbsp;</th>\n",
       "      <th id=\"T_e218d_level0_col0\" class=\"col_heading level0 col0\" >ticker</th>\n",
       "      <th id=\"T_e218d_level0_col1\" class=\"col_heading level0 col1\" >day</th>\n",
       "      <th id=\"T_e218d_level0_col2\" class=\"col_heading level0 col2\" >moneySpent</th>\n",
       "      <th id=\"T_e218d_level0_col3\" class=\"col_heading level0 col3\" >moneyRecieved</th>\n",
       "      <th id=\"T_e218d_level0_col4\" class=\"col_heading level0 col4\" >outcome</th>\n",
       "      <th id=\"T_e218d_level0_col5\" class=\"col_heading level0 col5\" >moneyChange</th>\n",
       "    </tr>\n",
       "  </thead>\n",
       "  <tbody>\n",
       "    <tr>\n",
       "      <th id=\"T_e218d_level0_row0\" class=\"row_heading level0 row0\" >7</th>\n",
       "      <td id=\"T_e218d_row0_col0\" class=\"data row0 col0\" >GTRK</td>\n",
       "      <td id=\"T_e218d_row0_col1\" class=\"data row0 col1\" >2024-05-03</td>\n",
       "      <td id=\"T_e218d_row0_col2\" class=\"data row0 col2\" >156736.000000</td>\n",
       "      <td id=\"T_e218d_row0_col3\" class=\"data row0 col3\" >165664.000000</td>\n",
       "      <td id=\"T_e218d_row0_col4\" class=\"data row0 col4\" >0.056962</td>\n",
       "      <td id=\"T_e218d_row0_col5\" class=\"data row0 col5\" >8928.000000</td>\n",
       "    </tr>\n",
       "    <tr>\n",
       "      <th id=\"T_e218d_level0_row1\" class=\"row_heading level0 row1\" >8</th>\n",
       "      <td id=\"T_e218d_row1_col0\" class=\"data row1 col0\" >ZILLP</td>\n",
       "      <td id=\"T_e218d_row1_col1\" class=\"data row1 col1\" >2024-05-03</td>\n",
       "      <td id=\"T_e218d_row1_col2\" class=\"data row1 col2\" >157372.740000</td>\n",
       "      <td id=\"T_e218d_row1_col3\" class=\"data row1 col3\" >147630.000000</td>\n",
       "      <td id=\"T_e218d_row1_col4\" class=\"data row1 col4\" >-0.061909</td>\n",
       "      <td id=\"T_e218d_row1_col5\" class=\"data row1 col5\" >-9742.740000</td>\n",
       "    </tr>\n",
       "    <tr>\n",
       "      <th id=\"T_e218d_level0_row2\" class=\"row_heading level0 row2\" >9</th>\n",
       "      <td id=\"T_e218d_row2_col0\" class=\"data row2 col0\" >HHRU</td>\n",
       "      <td id=\"T_e218d_row2_col1\" class=\"data row2 col1\" >2024-05-03</td>\n",
       "      <td id=\"T_e218d_row2_col2\" class=\"data row2 col2\" >156480.000000</td>\n",
       "      <td id=\"T_e218d_row2_col3\" class=\"data row2 col3\" >164256.000000</td>\n",
       "      <td id=\"T_e218d_row2_col4\" class=\"data row2 col4\" >0.049693</td>\n",
       "      <td id=\"T_e218d_row2_col5\" class=\"data row2 col5\" >7776.000000</td>\n",
       "    </tr>\n",
       "    <tr>\n",
       "      <th id=\"T_e218d_level0_row3\" class=\"row_heading level0 row3\" >10</th>\n",
       "      <td id=\"T_e218d_row3_col0\" class=\"data row3 col0\" >TGKB</td>\n",
       "      <td id=\"T_e218d_row3_col1\" class=\"data row3 col1\" >2024-05-03</td>\n",
       "      <td id=\"T_e218d_row3_col2\" class=\"data row3 col2\" >147785.000000</td>\n",
       "      <td id=\"T_e218d_row3_col3\" class=\"data row3 col3\" >147345.000000</td>\n",
       "      <td id=\"T_e218d_row3_col4\" class=\"data row3 col4\" >-0.002977</td>\n",
       "      <td id=\"T_e218d_row3_col5\" class=\"data row3 col5\" >-440.000000</td>\n",
       "    </tr>\n",
       "    <tr>\n",
       "      <th id=\"T_e218d_level0_row4\" class=\"row_heading level0 row4\" >11</th>\n",
       "      <td id=\"T_e218d_row4_col0\" class=\"data row4 col0\" >GRNT</td>\n",
       "      <td id=\"T_e218d_row4_col1\" class=\"data row4 col1\" >2024-05-03</td>\n",
       "      <td id=\"T_e218d_row4_col2\" class=\"data row4 col2\" >160257.942000</td>\n",
       "      <td id=\"T_e218d_row4_col3\" class=\"data row4 col3\" >158340.325600</td>\n",
       "      <td id=\"T_e218d_row4_col4\" class=\"data row4 col4\" >-0.011966</td>\n",
       "      <td id=\"T_e218d_row4_col5\" class=\"data row4 col5\" >-1917.616400</td>\n",
       "    </tr>\n",
       "    <tr>\n",
       "      <th id=\"T_e218d_level0_row5\" class=\"row_heading level0 row5\" >12</th>\n",
       "      <td id=\"T_e218d_row5_col0\" class=\"data row5 col0\" >IRKT</td>\n",
       "      <td id=\"T_e218d_row5_col1\" class=\"data row5 col1\" >2024-05-03</td>\n",
       "      <td id=\"T_e218d_row5_col2\" class=\"data row5 col2\" >154000.000000</td>\n",
       "      <td id=\"T_e218d_row5_col3\" class=\"data row5 col3\" >152790.000000</td>\n",
       "      <td id=\"T_e218d_row5_col4\" class=\"data row5 col4\" >-0.007857</td>\n",
       "      <td id=\"T_e218d_row5_col5\" class=\"data row5 col5\" >-1210.000000</td>\n",
       "    </tr>\n",
       "  </tbody>\n",
       "</table>\n"
      ],
      "text/plain": [
       "<pandas.io.formats.style.Styler at 0x7e03ac150280>"
      ]
     },
     "metadata": {},
     "output_type": "display_data"
    },
    {
     "name": "stdout",
     "output_type": "stream",
     "text": [
      "\n"
     ]
    },
    {
     "data": {
      "text/html": [
       "<style type=\"text/css\">\n",
       "</style>\n",
       "<table id=\"T_89385\" class=\"dataframe\">\n",
       "  <caption><b>2024-05-06 -0.16%</b></caption>\n",
       "  <thead>\n",
       "    <tr>\n",
       "      <th class=\"blank level0\" >&nbsp;</th>\n",
       "      <th id=\"T_89385_level0_col0\" class=\"col_heading level0 col0\" >ticker</th>\n",
       "      <th id=\"T_89385_level0_col1\" class=\"col_heading level0 col1\" >day</th>\n",
       "      <th id=\"T_89385_level0_col2\" class=\"col_heading level0 col2\" >moneySpent</th>\n",
       "      <th id=\"T_89385_level0_col3\" class=\"col_heading level0 col3\" >moneyRecieved</th>\n",
       "      <th id=\"T_89385_level0_col4\" class=\"col_heading level0 col4\" >outcome</th>\n",
       "      <th id=\"T_89385_level0_col5\" class=\"col_heading level0 col5\" >moneyChange</th>\n",
       "    </tr>\n",
       "  </thead>\n",
       "  <tbody>\n",
       "    <tr>\n",
       "      <th id=\"T_89385_level0_row0\" class=\"row_heading level0 row0\" >13</th>\n",
       "      <td id=\"T_89385_row0_col0\" class=\"data row0 col0\" >MRKU</td>\n",
       "      <td id=\"T_89385_row0_col1\" class=\"data row0 col1\" >2024-05-06</td>\n",
       "      <td id=\"T_89385_row0_col2\" class=\"data row0 col2\" >153594.000000</td>\n",
       "      <td id=\"T_89385_row0_col3\" class=\"data row0 col3\" >154652.000000</td>\n",
       "      <td id=\"T_89385_row0_col4\" class=\"data row0 col4\" >0.006888</td>\n",
       "      <td id=\"T_89385_row0_col5\" class=\"data row0 col5\" >1058.000000</td>\n",
       "    </tr>\n",
       "    <tr>\n",
       "      <th id=\"T_89385_level0_row1\" class=\"row_heading level0 row1\" >14</th>\n",
       "      <td id=\"T_89385_row1_col0\" class=\"data row1 col0\" >ZILLP</td>\n",
       "      <td id=\"T_89385_row1_col1\" class=\"data row1 col1\" >2024-05-06</td>\n",
       "      <td id=\"T_89385_row1_col2\" class=\"data row1 col2\" >156998.000000</td>\n",
       "      <td id=\"T_89385_row1_col3\" class=\"data row1 col3\" >152812.460000</td>\n",
       "      <td id=\"T_89385_row1_col4\" class=\"data row1 col4\" >-0.026660</td>\n",
       "      <td id=\"T_89385_row1_col5\" class=\"data row1 col5\" >-4185.540000</td>\n",
       "    </tr>\n",
       "  </tbody>\n",
       "</table>\n"
      ],
      "text/plain": [
       "<pandas.io.formats.style.Styler at 0x7e03ac1506a0>"
      ]
     },
     "metadata": {},
     "output_type": "display_data"
    },
    {
     "name": "stdout",
     "output_type": "stream",
     "text": [
      "\n"
     ]
    },
    {
     "data": {
      "text/html": [
       "<style type=\"text/css\">\n",
       "</style>\n",
       "<table id=\"T_68c10\" class=\"dataframe\">\n",
       "  <caption><b>2024-05-07 +0.00%</b></caption>\n",
       "  <thead>\n",
       "    <tr>\n",
       "      <th class=\"blank level0\" >&nbsp;</th>\n",
       "      <th id=\"T_68c10_level0_col0\" class=\"col_heading level0 col0\" >ticker</th>\n",
       "      <th id=\"T_68c10_level0_col1\" class=\"col_heading level0 col1\" >day</th>\n",
       "      <th id=\"T_68c10_level0_col2\" class=\"col_heading level0 col2\" >moneySpent</th>\n",
       "      <th id=\"T_68c10_level0_col3\" class=\"col_heading level0 col3\" >moneyRecieved</th>\n",
       "      <th id=\"T_68c10_level0_col4\" class=\"col_heading level0 col4\" >outcome</th>\n",
       "      <th id=\"T_68c10_level0_col5\" class=\"col_heading level0 col5\" >moneyChange</th>\n",
       "    </tr>\n",
       "  </thead>\n",
       "  <tbody>\n",
       "    <tr>\n",
       "      <th id=\"T_68c10_level0_row0\" class=\"row_heading level0 row0\" >15</th>\n",
       "      <td id=\"T_68c10_row0_col0\" class=\"data row0 col0\" >GRNT</td>\n",
       "      <td id=\"T_68c10_row0_col1\" class=\"data row0 col1\" >2024-05-07</td>\n",
       "      <td id=\"T_68c10_row0_col2\" class=\"data row0 col2\" >636825.564000</td>\n",
       "      <td id=\"T_68c10_row0_col3\" class=\"data row0 col3\" >0.000000</td>\n",
       "      <td id=\"T_68c10_row0_col4\" class=\"data row0 col4\" >0.000000</td>\n",
       "      <td id=\"T_68c10_row0_col5\" class=\"data row0 col5\" >-636825.564000</td>\n",
       "    </tr>\n",
       "    <tr>\n",
       "      <th id=\"T_68c10_level0_row1\" class=\"row_heading level0 row1\" >16</th>\n",
       "      <td id=\"T_68c10_row1_col0\" class=\"data row1 col0\" >GTRK</td>\n",
       "      <td id=\"T_68c10_row1_col1\" class=\"data row1 col1\" >2024-05-07</td>\n",
       "      <td id=\"T_68c10_row1_col2\" class=\"data row1 col2\" >648384.000000</td>\n",
       "      <td id=\"T_68c10_row1_col3\" class=\"data row1 col3\" >0.000000</td>\n",
       "      <td id=\"T_68c10_row1_col4\" class=\"data row1 col4\" >0.000000</td>\n",
       "      <td id=\"T_68c10_row1_col5\" class=\"data row1 col5\" >-648384.000000</td>\n",
       "    </tr>\n",
       "  </tbody>\n",
       "</table>\n"
      ],
      "text/plain": [
       "<pandas.io.formats.style.Styler at 0x7e039c1326e0>"
      ]
     },
     "metadata": {},
     "output_type": "display_data"
    },
    {
     "name": "stdout",
     "output_type": "stream",
     "text": [
      "\n"
     ]
    },
    {
     "data": {
      "image/png": "[encoded data removed]",
      "text/plain": [
       "<Figure size 640x480 with 1 Axes>"
      ]
     },
     "metadata": {},
     "output_type": "display_data"
    }
   ],
   "source": [
    "displayStatsForHistory(histories[0], imoexDayResults)"
   ]
  },
  {
   "cell_type": "markdown",
   "id": "b0f43e82-0dc7-4870-9253-da0ba1e1ab5a",
   "metadata": {},
   "source": [
    "## Аккаунт 2"
   ]
  },
  {
   "cell_type": "code",
   "execution_count": 127,
   "id": "fWq14Jly76id",
   "metadata": {
    "colab": {
     "base_uri": "https://localhost:8080/",
     "height": 1000
    },
    "executionInfo": {
     "elapsed": 466,
     "status": "ok",
     "timestamp": 1715087228245,
     "user": {
      "displayName": "1 2",
      "userId": "15574224089696271775"
     },
     "user_tz": -180
    },
    "id": "fWq14Jly76id",
    "outputId": "0dbe5e19-b2ab-4d38-a72a-59ba9c287d2b"
   },
   "outputs": [
    {
     "data": {
      "text/html": [
       "<style type=\"text/css\">\n",
       "</style>\n",
       "<table id=\"T_8e569\" class=\"dataframe\">\n",
       "  <caption><b>2024-05-02 -0.68%</b></caption>\n",
       "  <thead>\n",
       "    <tr>\n",
       "      <th class=\"blank level0\" >&nbsp;</th>\n",
       "      <th id=\"T_8e569_level0_col0\" class=\"col_heading level0 col0\" >ticker</th>\n",
       "      <th id=\"T_8e569_level0_col1\" class=\"col_heading level0 col1\" >day</th>\n",
       "      <th id=\"T_8e569_level0_col2\" class=\"col_heading level0 col2\" >moneySpent</th>\n",
       "      <th id=\"T_8e569_level0_col3\" class=\"col_heading level0 col3\" >moneyRecieved</th>\n",
       "      <th id=\"T_8e569_level0_col4\" class=\"col_heading level0 col4\" >outcome</th>\n",
       "      <th id=\"T_8e569_level0_col5\" class=\"col_heading level0 col5\" >moneyChange</th>\n",
       "    </tr>\n",
       "  </thead>\n",
       "  <tbody>\n",
       "    <tr>\n",
       "      <th id=\"T_8e569_level0_row0\" class=\"row_heading level0 row0\" >0</th>\n",
       "      <td id=\"T_8e569_row0_col0\" class=\"data row0 col0\" >SFIN</td>\n",
       "      <td id=\"T_8e569_row0_col1\" class=\"data row0 col1\" >2024-05-02</td>\n",
       "      <td id=\"T_8e569_row0_col2\" class=\"data row0 col2\" >202844.400000</td>\n",
       "      <td id=\"T_8e569_row0_col3\" class=\"data row0 col3\" >198374.000000</td>\n",
       "      <td id=\"T_8e569_row0_col4\" class=\"data row0 col4\" >-0.022039</td>\n",
       "      <td id=\"T_8e569_row0_col5\" class=\"data row0 col5\" >-4470.400000</td>\n",
       "    </tr>\n",
       "    <tr>\n",
       "      <th id=\"T_8e569_level0_row1\" class=\"row_heading level0 row1\" >1</th>\n",
       "      <td id=\"T_8e569_row1_col0\" class=\"data row1 col0\" >LSRG</td>\n",
       "      <td id=\"T_8e569_row1_col1\" class=\"data row1 col1\" >2024-05-02</td>\n",
       "      <td id=\"T_8e569_row1_col2\" class=\"data row1 col2\" >194961.000000</td>\n",
       "      <td id=\"T_8e569_row1_col3\" class=\"data row1 col3\" >189189.000000</td>\n",
       "      <td id=\"T_8e569_row1_col4\" class=\"data row1 col4\" >-0.029606</td>\n",
       "      <td id=\"T_8e569_row1_col5\" class=\"data row1 col5\" >-5772.000000</td>\n",
       "    </tr>\n",
       "    <tr>\n",
       "      <th id=\"T_8e569_level0_row2\" class=\"row_heading level0 row2\" >2</th>\n",
       "      <td id=\"T_8e569_row2_col0\" class=\"data row2 col0\" >ZILLP</td>\n",
       "      <td id=\"T_8e569_row2_col1\" class=\"data row2 col1\" >2024-05-02</td>\n",
       "      <td id=\"T_8e569_row2_col2\" class=\"data row2 col2\" >197748.000000</td>\n",
       "      <td id=\"T_8e569_row2_col3\" class=\"data row2 col3\" >204660.000000</td>\n",
       "      <td id=\"T_8e569_row2_col4\" class=\"data row2 col4\" >0.034954</td>\n",
       "      <td id=\"T_8e569_row2_col5\" class=\"data row2 col5\" >6912.000000</td>\n",
       "    </tr>\n",
       "    <tr>\n",
       "      <th id=\"T_8e569_level0_row3\" class=\"row_heading level0 row3\" >3</th>\n",
       "      <td id=\"T_8e569_row3_col0\" class=\"data row3 col0\" >NOMPP</td>\n",
       "      <td id=\"T_8e569_row3_col1\" class=\"data row3 col1\" >2024-05-02</td>\n",
       "      <td id=\"T_8e569_row3_col2\" class=\"data row3 col2\" >212706.000000</td>\n",
       "      <td id=\"T_8e569_row3_col3\" class=\"data row3 col3\" >202652.460000</td>\n",
       "      <td id=\"T_8e569_row3_col4\" class=\"data row3 col4\" >-0.047265</td>\n",
       "      <td id=\"T_8e569_row3_col5\" class=\"data row3 col5\" >-10053.540000</td>\n",
       "    </tr>\n",
       "    <tr>\n",
       "      <th id=\"T_8e569_level0_row4\" class=\"row_heading level0 row4\" >4</th>\n",
       "      <td id=\"T_8e569_row4_col0\" class=\"data row4 col0\" >ZILLP</td>\n",
       "      <td id=\"T_8e569_row4_col1\" class=\"data row4 col1\" >2024-05-02</td>\n",
       "      <td id=\"T_8e569_row4_col2\" class=\"data row4 col2\" >79590.000000</td>\n",
       "      <td id=\"T_8e569_row4_col3\" class=\"data row4 col3\" >79275.000000</td>\n",
       "      <td id=\"T_8e569_row4_col4\" class=\"data row4 col4\" >-0.003958</td>\n",
       "      <td id=\"T_8e569_row4_col5\" class=\"data row4 col5\" >-315.000000</td>\n",
       "    </tr>\n",
       "  </tbody>\n",
       "</table>\n"
      ],
      "text/plain": [
       "<pandas.io.formats.style.Styler at 0x7e037e5af550>"
      ]
     },
     "metadata": {},
     "output_type": "display_data"
    },
    {
     "name": "stdout",
     "output_type": "stream",
     "text": [
      "\n"
     ]
    },
    {
     "data": {
      "text/html": [
       "<style type=\"text/css\">\n",
       "</style>\n",
       "<table id=\"T_0da0f\" class=\"dataframe\">\n",
       "  <caption><b>2024-05-03 -0.69%</b></caption>\n",
       "  <thead>\n",
       "    <tr>\n",
       "      <th class=\"blank level0\" >&nbsp;</th>\n",
       "      <th id=\"T_0da0f_level0_col0\" class=\"col_heading level0 col0\" >ticker</th>\n",
       "      <th id=\"T_0da0f_level0_col1\" class=\"col_heading level0 col1\" >day</th>\n",
       "      <th id=\"T_0da0f_level0_col2\" class=\"col_heading level0 col2\" >moneySpent</th>\n",
       "      <th id=\"T_0da0f_level0_col3\" class=\"col_heading level0 col3\" >moneyRecieved</th>\n",
       "      <th id=\"T_0da0f_level0_col4\" class=\"col_heading level0 col4\" >outcome</th>\n",
       "      <th id=\"T_0da0f_level0_col5\" class=\"col_heading level0 col5\" >moneyChange</th>\n",
       "    </tr>\n",
       "  </thead>\n",
       "  <tbody>\n",
       "    <tr>\n",
       "      <th id=\"T_0da0f_level0_row0\" class=\"row_heading level0 row0\" >5</th>\n",
       "      <td id=\"T_0da0f_row0_col0\" class=\"data row0 col0\" >GTRK</td>\n",
       "      <td id=\"T_0da0f_row0_col1\" class=\"data row0 col1\" >2024-05-03</td>\n",
       "      <td id=\"T_0da0f_row0_col2\" class=\"data row0 col2\" >156736.000000</td>\n",
       "      <td id=\"T_0da0f_row0_col3\" class=\"data row0 col3\" >159774.000000</td>\n",
       "      <td id=\"T_0da0f_row0_col4\" class=\"data row0 col4\" >0.019383</td>\n",
       "      <td id=\"T_0da0f_row0_col5\" class=\"data row0 col5\" >3038.000000</td>\n",
       "    </tr>\n",
       "    <tr>\n",
       "      <th id=\"T_0da0f_level0_row1\" class=\"row_heading level0 row1\" >6</th>\n",
       "      <td id=\"T_0da0f_row1_col0\" class=\"data row1 col0\" >ZILLP</td>\n",
       "      <td id=\"T_0da0f_row1_col1\" class=\"data row1 col1\" >2024-05-03</td>\n",
       "      <td id=\"T_0da0f_row1_col2\" class=\"data row1 col2\" >161119.710000</td>\n",
       "      <td id=\"T_0da0f_row1_col3\" class=\"data row1 col3\" >151145.000000</td>\n",
       "      <td id=\"T_0da0f_row1_col4\" class=\"data row1 col4\" >-0.061909</td>\n",
       "      <td id=\"T_0da0f_row1_col5\" class=\"data row1 col5\" >-9974.710000</td>\n",
       "    </tr>\n",
       "    <tr>\n",
       "      <th id=\"T_0da0f_level0_row2\" class=\"row_heading level0 row2\" >7</th>\n",
       "      <td id=\"T_0da0f_row2_col0\" class=\"data row2 col0\" >LSRG</td>\n",
       "      <td id=\"T_0da0f_row2_col1\" class=\"data row2 col1\" >2024-05-03</td>\n",
       "      <td id=\"T_0da0f_row2_col2\" class=\"data row2 col2\" >161515.200000</td>\n",
       "      <td id=\"T_0da0f_row2_col3\" class=\"data row2 col3\" >158390.400000</td>\n",
       "      <td id=\"T_0da0f_row2_col4\" class=\"data row2 col4\" >-0.019347</td>\n",
       "      <td id=\"T_0da0f_row2_col5\" class=\"data row2 col5\" >-3124.800000</td>\n",
       "    </tr>\n",
       "    <tr>\n",
       "      <th id=\"T_0da0f_level0_row3\" class=\"row_heading level0 row3\" >8</th>\n",
       "      <td id=\"T_0da0f_row3_col0\" class=\"data row3 col0\" >TGKB</td>\n",
       "      <td id=\"T_0da0f_row3_col1\" class=\"data row3 col1\" >2024-05-03</td>\n",
       "      <td id=\"T_0da0f_row3_col2\" class=\"data row3 col2\" >161220.000000</td>\n",
       "      <td id=\"T_0da0f_row3_col3\" class=\"data row3 col3\" >160740.000000</td>\n",
       "      <td id=\"T_0da0f_row3_col4\" class=\"data row3 col4\" >-0.002977</td>\n",
       "      <td id=\"T_0da0f_row3_col5\" class=\"data row3 col5\" >-480.000000</td>\n",
       "    </tr>\n",
       "    <tr>\n",
       "      <th id=\"T_0da0f_level0_row4\" class=\"row_heading level0 row4\" >9</th>\n",
       "      <td id=\"T_0da0f_row4_col0\" class=\"data row4 col0\" >GRNT</td>\n",
       "      <td id=\"T_0da0f_row4_col1\" class=\"data row4 col1\" >2024-05-03</td>\n",
       "      <td id=\"T_0da0f_row4_col2\" class=\"data row4 col2\" >161752.266000</td>\n",
       "      <td id=\"T_0da0f_row4_col3\" class=\"data row4 col3\" >159816.768800</td>\n",
       "      <td id=\"T_0da0f_row4_col4\" class=\"data row4 col4\" >-0.011966</td>\n",
       "      <td id=\"T_0da0f_row4_col5\" class=\"data row4 col5\" >-1935.497200</td>\n",
       "    </tr>\n",
       "    <tr>\n",
       "      <th id=\"T_0da0f_level0_row5\" class=\"row_heading level0 row5\" >10</th>\n",
       "      <td id=\"T_0da0f_row5_col0\" class=\"data row5 col0\" >IRKT</td>\n",
       "      <td id=\"T_0da0f_row5_col1\" class=\"data row5 col1\" >2024-05-03</td>\n",
       "      <td id=\"T_0da0f_row5_col2\" class=\"data row5 col2\" >161000.000000</td>\n",
       "      <td id=\"T_0da0f_row5_col3\" class=\"data row5 col3\" >159735.000000</td>\n",
       "      <td id=\"T_0da0f_row5_col4\" class=\"data row5 col4\" >-0.007857</td>\n",
       "      <td id=\"T_0da0f_row5_col5\" class=\"data row5 col5\" >-1265.000000</td>\n",
       "    </tr>\n",
       "  </tbody>\n",
       "</table>\n"
      ],
      "text/plain": [
       "<pandas.io.formats.style.Styler at 0x7e03b05662f0>"
      ]
     },
     "metadata": {},
     "output_type": "display_data"
    },
    {
     "name": "stdout",
     "output_type": "stream",
     "text": [
      "\n"
     ]
    },
    {
     "data": {
      "text/html": [
       "<style type=\"text/css\">\n",
       "</style>\n",
       "<table id=\"T_ea807\" class=\"dataframe\">\n",
       "  <caption><b>2024-05-06 -0.37%</b></caption>\n",
       "  <thead>\n",
       "    <tr>\n",
       "      <th class=\"blank level0\" >&nbsp;</th>\n",
       "      <th id=\"T_ea807_level0_col0\" class=\"col_heading level0 col0\" >ticker</th>\n",
       "      <th id=\"T_ea807_level0_col1\" class=\"col_heading level0 col1\" >day</th>\n",
       "      <th id=\"T_ea807_level0_col2\" class=\"col_heading level0 col2\" >moneySpent</th>\n",
       "      <th id=\"T_ea807_level0_col3\" class=\"col_heading level0 col3\" >moneyRecieved</th>\n",
       "      <th id=\"T_ea807_level0_col4\" class=\"col_heading level0 col4\" >outcome</th>\n",
       "      <th id=\"T_ea807_level0_col5\" class=\"col_heading level0 col5\" >moneyChange</th>\n",
       "    </tr>\n",
       "  </thead>\n",
       "  <tbody>\n",
       "    <tr>\n",
       "      <th id=\"T_ea807_level0_row0\" class=\"row_heading level0 row0\" >11</th>\n",
       "      <td id=\"T_ea807_row0_col0\" class=\"data row0 col0\" >GTRK</td>\n",
       "      <td id=\"T_ea807_row0_col1\" class=\"data row0 col1\" >2024-05-06</td>\n",
       "      <td id=\"T_ea807_row0_col2\" class=\"data row0 col2\" >151320.000000</td>\n",
       "      <td id=\"T_ea807_row0_col3\" class=\"data row0 col3\" >147150.000000</td>\n",
       "      <td id=\"T_ea807_row0_col4\" class=\"data row0 col4\" >-0.027557</td>\n",
       "      <td id=\"T_ea807_row0_col5\" class=\"data row0 col5\" >-4170.000000</td>\n",
       "    </tr>\n",
       "    <tr>\n",
       "      <th id=\"T_ea807_level0_row1\" class=\"row_heading level0 row1\" >12</th>\n",
       "      <td id=\"T_ea807_row1_col0\" class=\"data row1 col0\" >ZILLP</td>\n",
       "      <td id=\"T_ea807_row1_col1\" class=\"data row1 col1\" >2024-05-06</td>\n",
       "      <td id=\"T_ea807_row1_col2\" class=\"data row1 col2\" >153585.000000</td>\n",
       "      <td id=\"T_ea807_row1_col3\" class=\"data row1 col3\" >149490.450000</td>\n",
       "      <td id=\"T_ea807_row1_col4\" class=\"data row1 col4\" >-0.026660</td>\n",
       "      <td id=\"T_ea807_row1_col5\" class=\"data row1 col5\" >-4094.550000</td>\n",
       "    </tr>\n",
       "    <tr>\n",
       "      <th id=\"T_ea807_level0_row2\" class=\"row_heading level0 row2\" >13</th>\n",
       "      <td id=\"T_ea807_row2_col0\" class=\"data row2 col0\" >TGKBP</td>\n",
       "      <td id=\"T_ea807_row2_col1\" class=\"data row2 col1\" >2024-05-06</td>\n",
       "      <td id=\"T_ea807_row2_col2\" class=\"data row2 col2\" >158530.000000</td>\n",
       "      <td id=\"T_ea807_row2_col3\" class=\"data row2 col3\" >159443.000000</td>\n",
       "      <td id=\"T_ea807_row2_col4\" class=\"data row2 col4\" >0.005759</td>\n",
       "      <td id=\"T_ea807_row2_col5\" class=\"data row2 col5\" >913.000000</td>\n",
       "    </tr>\n",
       "  </tbody>\n",
       "</table>\n"
      ],
      "text/plain": [
       "<pandas.io.formats.style.Styler at 0x7e037c3da020>"
      ]
     },
     "metadata": {},
     "output_type": "display_data"
    },
    {
     "name": "stdout",
     "output_type": "stream",
     "text": [
      "\n"
     ]
    },
    {
     "data": {
      "text/html": [
       "<style type=\"text/css\">\n",
       "</style>\n",
       "<table id=\"T_dfe5d\" class=\"dataframe\">\n",
       "  <caption><b>2024-05-07 +0.00%</b></caption>\n",
       "  <thead>\n",
       "    <tr>\n",
       "      <th class=\"blank level0\" >&nbsp;</th>\n",
       "      <th id=\"T_dfe5d_level0_col0\" class=\"col_heading level0 col0\" >ticker</th>\n",
       "      <th id=\"T_dfe5d_level0_col1\" class=\"col_heading level0 col1\" >day</th>\n",
       "      <th id=\"T_dfe5d_level0_col2\" class=\"col_heading level0 col2\" >moneySpent</th>\n",
       "      <th id=\"T_dfe5d_level0_col3\" class=\"col_heading level0 col3\" >moneyRecieved</th>\n",
       "      <th id=\"T_dfe5d_level0_col4\" class=\"col_heading level0 col4\" >outcome</th>\n",
       "      <th id=\"T_dfe5d_level0_col5\" class=\"col_heading level0 col5\" >moneyChange</th>\n",
       "    </tr>\n",
       "  </thead>\n",
       "  <tbody>\n",
       "    <tr>\n",
       "      <th id=\"T_dfe5d_level0_row0\" class=\"row_heading level0 row0\" >14</th>\n",
       "      <td id=\"T_dfe5d_row0_col0\" class=\"data row0 col0\" >GTRK</td>\n",
       "      <td id=\"T_dfe5d_row0_col1\" class=\"data row0 col1\" >2024-05-07</td>\n",
       "      <td id=\"T_dfe5d_row0_col2\" class=\"data row0 col2\" >643472.000000</td>\n",
       "      <td id=\"T_dfe5d_row0_col3\" class=\"data row0 col3\" >0.000000</td>\n",
       "      <td id=\"T_dfe5d_row0_col4\" class=\"data row0 col4\" >0.000000</td>\n",
       "      <td id=\"T_dfe5d_row0_col5\" class=\"data row0 col5\" >-643472.000000</td>\n",
       "    </tr>\n",
       "    <tr>\n",
       "      <th id=\"T_dfe5d_level0_row1\" class=\"row_heading level0 row1\" >15</th>\n",
       "      <td id=\"T_dfe5d_row1_col0\" class=\"data row1 col0\" >GRNT</td>\n",
       "      <td id=\"T_dfe5d_row1_col1\" class=\"data row1 col1\" >2024-05-07</td>\n",
       "      <td id=\"T_dfe5d_row1_col2\" class=\"data row1 col2\" >632818.764000</td>\n",
       "      <td id=\"T_dfe5d_row1_col3\" class=\"data row1 col3\" >0.000000</td>\n",
       "      <td id=\"T_dfe5d_row1_col4\" class=\"data row1 col4\" >0.000000</td>\n",
       "      <td id=\"T_dfe5d_row1_col5\" class=\"data row1 col5\" >-632818.764000</td>\n",
       "    </tr>\n",
       "  </tbody>\n",
       "</table>\n"
      ],
      "text/plain": [
       "<pandas.io.formats.style.Styler at 0x7e03aaf570a0>"
      ]
     },
     "metadata": {},
     "output_type": "display_data"
    },
    {
     "name": "stdout",
     "output_type": "stream",
     "text": [
      "\n"
     ]
    },
    {
     "data": {
      "image/png": "[encoded data removed]",
      "text/plain": [
       "<Figure size 640x480 with 1 Axes>"
      ]
     },
     "metadata": {},
     "output_type": "display_data"
    }
   ],
   "source": [
    "displayStatsForHistory(histories[1], imoexDayResults)"
   ]
  },
  {
   "cell_type": "code",
   "execution_count": null,
   "id": "0IuM_XLi76kg",
   "metadata": {
    "id": "0IuM_XLi76kg"
   },
   "outputs": [],
   "source": []
  }
 ],
 "metadata": {
  "colab": {
   "provenance": []
  },
  "kernelspec": {
   "display_name": "Python 3 (ipykernel)",
   "language": "python",
   "name": "python3"
  },
  "language_info": {
   "codemirror_mode": {
    "name": "ipython",
    "version": 3
   },
   "file_extension": ".py",
   "mimetype": "text/x-python",
   "name": "python",
   "nbconvert_exporter": "python",
   "pygments_lexer": "ipython3",
   "version": "3.10.12"
  }
 },
 "nbformat": 4,
 "nbformat_minor": 5
}
